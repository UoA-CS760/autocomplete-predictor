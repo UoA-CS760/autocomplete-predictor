{
 "cells": [
  {
   "cell_type": "code",
   "execution_count": 1,
   "metadata": {},
   "outputs": [
    {
     "name": "stderr",
     "output_type": "stream",
     "text": [
      "Using TensorFlow backend.\n"
     ]
    }
   ],
   "source": [
    "import numpy as np\n",
    "from keras.utils import to_categorical\n",
    "from keras.models import Sequential, load_model\n",
    "from keras.layers import Dense\n",
    "from keras.layers import LSTM\n",
    "from keras.layers import Embedding\n",
    "from keras.preprocessing.sequence import pad_sequences"
   ]
  },
  {
   "cell_type": "markdown",
   "metadata": {},
   "source": [
    "### Load Vocab"
   ]
  },
  {
   "cell_type": "code",
   "execution_count": 2,
   "metadata": {},
   "outputs": [],
   "source": [
    "vocab = {}\n",
    "idToWord = {}\n",
    "with open('vocab.txt') as f:\n",
    "    words = f.read().splitlines()\n",
    "    for wordIndex in words:\n",
    "        word, index = wordIndex.split(' -----> ')\n",
    "        vocab[word] = index\n",
    "        idToWord[int(index)] = word"
   ]
  },
  {
   "cell_type": "code",
   "execution_count": 4,
   "metadata": {},
   "outputs": [
    {
     "data": {
      "text/plain": [
       "'1001'"
      ]
     },
     "execution_count": 4,
     "metadata": {},
     "output_type": "execute_result"
    }
   ],
   "source": [
    "vocab['<pad_token>']"
   ]
  },
  {
   "cell_type": "markdown",
   "metadata": {},
   "source": [
    "### Create input squences"
   ]
  },
  {
   "cell_type": "code",
   "execution_count": 3,
   "metadata": {},
   "outputs": [
    {
     "name": "stdout",
     "output_type": "stream",
     "text": [
      "9824993\n"
     ]
    }
   ],
   "source": [
    "look_back_len = 100 + 1\n",
    "sequences = []\n",
    "vocabulary_size = len(vocab)\n",
    "\n",
    "with open('int-seq.txt') as f:\n",
    "    files = f.read().splitlines()\n",
    "    for file in files:\n",
    "        numbers = list(map(int, file.split(',')[:-1]))\n",
    "        for i in range(look_back_len, len(numbers)):\n",
    "            seq = numbers[i-look_back_len:i]\n",
    "            sequences.append(seq)\n",
    "    n_sequences = np.empty([len(sequences), look_back_len], dtype='int32')\n",
    "    for i in range(len(sequences)):\n",
    "        n_sequences[i] = sequences[i]\n",
    "\n",
    "print(len(sequences))"
   ]
  },
  {
   "cell_type": "markdown",
   "metadata": {},
   "source": [
    "### Convert output to one hot encoded vector"
   ]
  },
  {
   "cell_type": "code",
   "execution_count": 4,
   "metadata": {},
   "outputs": [
    {
     "name": "stdout",
     "output_type": "stream",
     "text": [
      "9824993\n",
      "[0. 0. 0. ... 0. 0. 0.]\n"
     ]
    }
   ],
   "source": [
    "train_inputs = n_sequences[:,:-1]\n",
    "train_targets = n_sequences[:,-1]\n",
    "print(len(train_targets))\n",
    "\n",
    "train_targets = to_categorical(train_targets, num_classes=vocabulary_size)\n",
    "seq_len = train_inputs.shape[1]\n",
    "print(train_targets[0])"
   ]
  },
  {
   "cell_type": "markdown",
   "metadata": {},
   "source": [
    "### Train Model"
   ]
  },
  {
   "cell_type": "code",
   "execution_count": 5,
   "metadata": {},
   "outputs": [],
   "source": [
    "import keras\n",
    "class CustomSaver(keras.callbacks.Callback):\n",
    "    def on_epoch_end(self, epoch, logs={}):\n",
    "        self.model.save(\"model_100Vocab{}.hd5\".format(epoch))"
   ]
  },
  {
   "cell_type": "code",
   "execution_count": null,
   "metadata": {
    "scrolled": true
   },
   "outputs": [
    {
     "name": "stdout",
     "output_type": "stream",
     "text": [
      "Model: \"sequential_1\"\n",
      "_________________________________________________________________\n",
      "Layer (type)                 Output Shape              Param #   \n",
      "=================================================================\n",
      "embedding_1 (Embedding)      (None, 100, 100)          100200    \n",
      "_________________________________________________________________\n",
      "lstm_1 (LSTM)                (None, 100, 50)           30200     \n",
      "_________________________________________________________________\n",
      "lstm_2 (LSTM)                (None, 50)                20200     \n",
      "_________________________________________________________________\n",
      "dense_1 (Dense)              (None, 50)                2550      \n",
      "_________________________________________________________________\n",
      "dense_2 (Dense)              (None, 1002)              51102     \n",
      "=================================================================\n",
      "Total params: 204,252\n",
      "Trainable params: 204,252\n",
      "Non-trainable params: 0\n",
      "_________________________________________________________________\n",
      "None\n"
     ]
    },
    {
     "name": "stderr",
     "output_type": "stream",
     "text": [
      "c:\\Miniconda\\envs\\azureml_py36_tensorflow\\lib\\site-packages\\tensorflow_core\\python\\framework\\indexed_slices.py:433: UserWarning: Converting sparse IndexedSlices to a dense Tensor of unknown shape. This may consume a large amount of memory.\n",
      "  \"Converting sparse IndexedSlices to a dense Tensor of unknown shape. \"\n"
     ]
    },
    {
     "name": "stdout",
     "output_type": "stream",
     "text": [
      "Train on 6877495 samples, validate on 2947498 samples\n",
      "Epoch 1/20\n",
      "6877495/6877495 [==============================] - 48735s 7ms/step - loss: 1.5033 - accuracy: 0.6454 - val_loss: 1.5893 - val_accuracy: 0.6348\n",
      "Epoch 2/20\n",
      "6877495/6877495 [==============================] - 39843s 6ms/step - loss: 1.3376 - accuracy: 0.6742 - val_loss: 1.5633 - val_accuracy: 0.6390\n",
      "Epoch 3/20\n",
      "  92736/6877495 [..............................] - ETA: 10:02:22 - loss: 1.3126 - accuracy: 0.6790"
     ]
    }
   ],
   "source": [
    "model = Sequential()\n",
    "model.add(Embedding(vocabulary_size, seq_len, input_length=seq_len))\n",
    "model.add(LSTM(50,return_sequences=True))\n",
    "model.add(LSTM(50))\n",
    "model.add(Dense(50,activation='relu'))\n",
    "model.add(Dense(vocabulary_size, activation='softmax'))\n",
    "print(model.summary())\n",
    "# compile network\n",
    "model.compile(loss='categorical_crossentropy', optimizer='adam', metrics=['accuracy'])\n",
    "\n",
    "saver = CustomSaver()\n",
    "\n",
    "model.fit(train_inputs,train_targets, epochs = 20 ,verbose=1, validation_split=0.3, callbacks=[saver])\n",
    "model.save(\"mymodel-100Vocab.h5\")"
   ]
  },
  {
   "cell_type": "markdown",
   "metadata": {},
   "source": [
    "### Test Model"
   ]
  },
  {
   "cell_type": "code",
   "execution_count": 36,
   "metadata": {},
   "outputs": [
    {
     "name": "stdout",
     "output_type": "stream",
     "text": [
      "[2, 13, 35, 5] [1001 1001    2   13   35    5]\n",
      "Top 3 Suggestions:\n"
     ]
    }
   ],
   "source": [
    "from keras.preprocessing.sequence import pad_sequences\n",
    "\n",
    "# sample python input\n",
    "\"\"\"\n",
    "num = 46\n",
    "print\n",
    "\"\"\"\n",
    "encoded_text = [2,13,35,5]\n",
    "seq_len = 6\n",
    "pad_encoded = pad_sequences([encoded_text], maxlen=seq_len, truncating='pre', value = int(vocab['<pad_token>']))\n",
    "print(encoded_text, pad_encoded[0])\n",
    "\n",
    "print(\"Top 3 Suggestions:\")\n",
    "#for i in (model.predict(pad_encoded)[0]).argsort()[-3:][::-1]:\n",
    "#    print(idToWord[i])"
   ]
  }
 ],
 "metadata": {
  "kernelspec": {
   "display_name": "Python 3.6 - AzureML - TensorFlow",
   "language": "python",
   "name": "azureml_py36_tensorflow"
  },
  "language_info": {
   "codemirror_mode": {
    "name": "ipython",
    "version": 3
   },
   "file_extension": ".py",
   "mimetype": "text/x-python",
   "name": "python",
   "nbconvert_exporter": "python",
   "pygments_lexer": "ipython3",
   "version": "3.6.9"
  }
 },
 "nbformat": 4,
 "nbformat_minor": 4
}
