{
 "cells": [
  {
   "cell_type": "code",
   "execution_count": 1,
   "metadata": {},
   "outputs": [
    {
     "name": "stderr",
     "output_type": "stream",
     "text": [
      "Using TensorFlow backend.\n"
     ]
    }
   ],
   "source": [
    "import numpy as np\n",
    "from keras.utils import to_categorical\n",
    "from keras.models import Sequential, load_model\n",
    "from keras.layers import Dense\n",
    "from keras.layers import LSTM\n",
    "from keras.layers import Embedding"
   ]
  },
  {
   "cell_type": "markdown",
   "metadata": {},
   "source": [
    "### Load Vocab"
   ]
  },
  {
   "cell_type": "code",
   "execution_count": 2,
   "metadata": {},
   "outputs": [],
   "source": [
    "vocab = {}\n",
    "idToWord = {}\n",
    "with open('vocab.txt') as f:\n",
    "    words = f.read().splitlines()\n",
    "    for wordIndex in words:\n",
    "        word, index = wordIndex.split(' -----> ')\n",
    "        vocab[word] = index\n",
    "        idToWord[int(index)] = word"
   ]
  },
  {
   "cell_type": "markdown",
   "metadata": {},
   "source": [
    "### Create input squences"
   ]
  },
  {
   "cell_type": "code",
   "execution_count": 5,
   "metadata": {},
   "outputs": [
    {
     "data": {
      "text/plain": [
       "array([[1000,   17,  616, ..., 1000,    4,  389],\n",
       "       [  17,  616,   17, ...,    4,  389,    0],\n",
       "       [ 616,   17,  243, ...,  389,    0, 1000],\n",
       "       ...,\n",
       "       [  31,  675,    1, ...,    5,   13, 1000],\n",
       "       [ 675,    1,   23, ...,   13, 1000,   29],\n",
       "       [   1,   23,   16, ..., 1000,   29,    5]])"
      ]
     },
     "execution_count": 5,
     "metadata": {},
     "output_type": "execute_result"
    }
   ],
   "source": [
    "look_back_len = 1000 + 1\n",
    "sequences = []\n",
    "vocabulary_size = len(vocab)\n",
    "\n",
    "with open('int-seq.txt') as f:\n",
    "    files = f.read().splitlines()\n",
    "    for file in files:\n",
    "        numbers = list(map(int, file.split(',')[:-1]))\n",
    "        #print(numbers)\n",
    "        for i in range(look_back_len, len(numbers)):\n",
    "            seq = numbers[i-look_back_len:i]\n",
    "            sequences.append(seq)\n",
    "    #print(sequences)\n",
    "\n",
    "    n_sequences = np.empty([len(sequences), look_back_len], dtype='int32')\n",
    "    for i in range(len(sequences)):\n",
    "        n_sequences[i] = sequences[i]\n",
    "\n",
    "n_sequences"
   ]
  },
  {
   "cell_type": "markdown",
   "metadata": {},
   "source": [
    "### Convert output to one hot encoded vector"
   ]
  },
  {
   "cell_type": "code",
   "execution_count": 6,
   "metadata": {},
   "outputs": [
    {
     "name": "stdout",
     "output_type": "stream",
     "text": [
      "38318\n",
      "[0. 0. 0. ... 0. 0. 0.]\n"
     ]
    }
   ],
   "source": [
    "train_inputs = n_sequences[:,:-1]\n",
    "train_targets = n_sequences[:,-1]\n",
    "print(len(train_targets))\n",
    "\n",
    "train_targets = to_categorical(train_targets, num_classes=vocabulary_size)\n",
    "seq_len = train_inputs.shape[1]\n",
    "print(train_targets[0])"
   ]
  },
  {
   "cell_type": "markdown",
   "metadata": {},
   "source": [
    "### Train Model"
   ]
  },
  {
   "cell_type": "code",
   "execution_count": null,
   "metadata": {},
   "outputs": [
    {
     "name": "stdout",
     "output_type": "stream",
     "text": [
      "Model: \"sequential_2\"\n",
      "_________________________________________________________________\n",
      "Layer (type)                 Output Shape              Param #   \n",
      "=================================================================\n",
      "embedding_2 (Embedding)      (None, 1000, 1000)        1002000   \n",
      "_________________________________________________________________\n",
      "lstm_3 (LSTM)                (None, 1000, 50)          210200    \n",
      "_________________________________________________________________\n",
      "lstm_4 (LSTM)                (None, 50)                20200     \n",
      "_________________________________________________________________\n",
      "dense_3 (Dense)              (None, 50)                2550      \n",
      "_________________________________________________________________\n",
      "dense_4 (Dense)              (None, 1002)              51102     \n",
      "=================================================================\n",
      "Total params: 1,286,052\n",
      "Trainable params: 1,286,052\n",
      "Non-trainable params: 0\n",
      "_________________________________________________________________\n",
      "None\n"
     ]
    },
    {
     "name": "stderr",
     "output_type": "stream",
     "text": [
      "c:\\Miniconda\\envs\\azureml_py36_tensorflow\\lib\\site-packages\\tensorflow_core\\python\\framework\\indexed_slices.py:433: UserWarning: Converting sparse IndexedSlices to a dense Tensor of unknown shape. This may consume a large amount of memory.\n",
      "  \"Converting sparse IndexedSlices to a dense Tensor of unknown shape. \"\n"
     ]
    },
    {
     "name": "stdout",
     "output_type": "stream",
     "text": [
      "Train on 26822 samples, validate on 11496 samples\n",
      "Epoch 1/500\n",
      "26822/26822 [==============================] - 2081s 78ms/step - loss: 3.5189 - accuracy: 0.2583 - val_loss: 2.7214 - val_accuracy: 0.4223\n",
      "Epoch 2/500\n",
      " 3136/26822 [==>...........................] - ETA: 28:08 - loss: 3.0531 - accuracy: 0.3495"
     ]
    }
   ],
   "source": [
    "model = Sequential()\n",
    "model.add(Embedding(vocabulary_size, seq_len, input_length=seq_len))\n",
    "model.add(LSTM(50,return_sequences=True))\n",
    "model.add(LSTM(50))\n",
    "model.add(Dense(50,activation='relu'))\n",
    "model.add(Dense(vocabulary_size, activation='softmax'))\n",
    "print(model.summary())\n",
    "# compile network\n",
    "model.compile(loss='categorical_crossentropy', optimizer='adam', metrics=['accuracy'])\n",
    "model.fit(train_inputs,train_targets,epochs=500,verbose=1, validation_split=0.3)\n",
    "model.save(\"mymodel.h5\")"
   ]
  },
  {
   "cell_type": "markdown",
   "metadata": {},
   "source": [
    "### Test Model"
   ]
  },
  {
   "cell_type": "code",
   "execution_count": 24,
   "metadata": {},
   "outputs": [
    {
     "name": "stdout",
     "output_type": "stream",
     "text": [
      "[2, 13, 35, 5] [[36  2 13 35  5]]\n",
      "Top 3 Suggestions:\n",
      "num\n",
      "1\n",
      "n\n"
     ]
    }
   ],
   "source": [
    "from keras.preprocessing.sequence import pad_sequences\n",
    "\n",
    "# sample python input\n",
    "\"\"\"\n",
    "num = 46\n",
    "print\n",
    "\"\"\"\n",
    "encoded_text = [2,13,35,5]\n",
    "pad_encoded = pad_sequences([encoded_text], maxlen=seq_len, truncating='pre', value = int(vocab['<pad_token>']))\n",
    "print(encoded_text, pad_encoded)\n",
    "\n",
    "print(\"Top 3 Suggestions:\")\n",
    "for i in (model.predict(pad_encoded)[0]).argsort()[-3:][::-1]:\n",
    "    print(idToWord[i])"
   ]
  }
 ],
 "metadata": {
  "kernelspec": {
   "display_name": "Python 3.6 - AzureML - TensorFlow",
   "language": "python",
   "name": "azureml_py36_tensorflow"
  },
  "language_info": {
   "codemirror_mode": {
    "name": "ipython",
    "version": 3
   },
   "file_extension": ".py",
   "mimetype": "text/x-python",
   "name": "python",
   "nbconvert_exporter": "python",
   "pygments_lexer": "ipython3",
   "version": "3.6.9"
  }
 },
 "nbformat": 4,
 "nbformat_minor": 4
}
