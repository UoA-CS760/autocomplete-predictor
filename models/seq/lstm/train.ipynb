{
 "cells": [
  {
   "cell_type": "code",
   "execution_count": 1,
   "metadata": {},
   "outputs": [
    {
     "name": "stderr",
     "output_type": "stream",
     "text": [
      "Using TensorFlow backend.\n"
     ]
    }
   ],
   "source": [
    "import numpy as np\n",
    "from keras.utils import to_categorical\n",
    "from keras.models import Sequential, load_model\n",
    "from keras.layers import Dense\n",
    "from keras.layers import LSTM\n",
    "from keras.layers import Embedding"
   ]
  },
  {
   "cell_type": "markdown",
   "metadata": {},
   "source": [
    "### Load Vocab"
   ]
  },
  {
   "cell_type": "code",
   "execution_count": 2,
   "metadata": {},
   "outputs": [],
   "source": [
    "vocab = {}\n",
    "idToWord = {}\n",
    "with open('vocab.txt') as f:\n",
    "    words = f.read().splitlines()\n",
    "    for wordIndex in words:\n",
    "        word, index = wordIndex.split(' -----> ')\n",
    "        vocab[word] = index\n",
    "        idToWord[int(index)] = word"
   ]
  },
  {
   "cell_type": "markdown",
   "metadata": {},
   "source": [
    "### Create input squences"
   ]
  },
  {
   "cell_type": "code",
   "execution_count": 3,
   "metadata": {},
   "outputs": [
    {
     "data": {
      "text/plain": [
       "array([[1000,    0,   20, ..., 1000,    3,    0],\n",
       "       [   0,   20,  614, ...,    3,    0, 1000],\n",
       "       [  20,  614,    0, ...,    0, 1000,    3],\n",
       "       ...,\n",
       "       [   0,    1, 1000, ...,    6,    0,    8],\n",
       "       [   1, 1000,    3, ...,    0,    8,   16],\n",
       "       [1000,    3, 1000, ...,    8,   16,    9]])"
      ]
     },
     "execution_count": 3,
     "metadata": {},
     "output_type": "execute_result"
    }
   ],
   "source": [
    "look_back_len = 1000 + 1\n",
    "sequences = []\n",
    "vocabulary_size = len(vocab)\n",
    "\n",
    "with open('int-seq.txt') as f:\n",
    "    files = f.read().splitlines()\n",
    "    for file in files:\n",
    "        numbers = list(map(int, file.split(',')[:-1]))\n",
    "        #print(numbers)\n",
    "        for i in range(look_back_len, len(numbers)):\n",
    "            seq = numbers[i-look_back_len:i]\n",
    "            sequences.append(seq)\n",
    "    #print(sequences)\n",
    "\n",
    "    n_sequences = np.empty([len(sequences), look_back_len], dtype='int32')\n",
    "    for i in range(len(sequences)):\n",
    "        n_sequences[i] = sequences[i]\n",
    "\n",
    "n_sequences"
   ]
  },
  {
   "cell_type": "markdown",
   "metadata": {},
   "source": [
    "### Convert output to one hot encoded vector"
   ]
  },
  {
   "cell_type": "code",
   "execution_count": 4,
   "metadata": {},
   "outputs": [
    {
     "name": "stdout",
     "output_type": "stream",
     "text": [
      "40216\n",
      "[1. 0. 0. ... 0. 0. 0.]\n"
     ]
    }
   ],
   "source": [
    "train_inputs = n_sequences[:,:-1]\n",
    "train_targets = n_sequences[:,-1]\n",
    "print(len(train_targets))\n",
    "\n",
    "train_targets = to_categorical(train_targets, num_classes=vocabulary_size)\n",
    "seq_len = train_inputs.shape[1]\n",
    "print(train_targets[0])"
   ]
  },
  {
   "cell_type": "markdown",
   "metadata": {},
   "source": [
    "### Train Model"
   ]
  },
  {
   "cell_type": "code",
   "execution_count": 5,
   "metadata": {},
   "outputs": [],
   "source": [
    "import keras\n",
    "class CustomSaver(keras.callbacks.Callback):\n",
    "    def on_epoch_end(self, epoch, logs={}):\n",
    "        self.model.save(\"model_{}.hd5\".format(epoch))"
   ]
  },
  {
   "cell_type": "code",
   "execution_count": 6,
   "metadata": {
    "scrolled": true
   },
   "outputs": [
    {
     "name": "stdout",
     "output_type": "stream",
     "text": [
      "Model: \"sequential_1\"\n",
      "_________________________________________________________________\n",
      "Layer (type)                 Output Shape              Param #   \n",
      "=================================================================\n",
      "embedding_1 (Embedding)      (None, 1000, 1000)        1002000   \n",
      "_________________________________________________________________\n",
      "lstm_1 (LSTM)                (None, 1000, 50)          210200    \n",
      "_________________________________________________________________\n",
      "lstm_2 (LSTM)                (None, 50)                20200     \n",
      "_________________________________________________________________\n",
      "dense_1 (Dense)              (None, 50)                2550      \n",
      "_________________________________________________________________\n",
      "dense_2 (Dense)              (None, 1002)              51102     \n",
      "=================================================================\n",
      "Total params: 1,286,052\n",
      "Trainable params: 1,286,052\n",
      "Non-trainable params: 0\n",
      "_________________________________________________________________\n",
      "None\n"
     ]
    },
    {
     "name": "stderr",
     "output_type": "stream",
     "text": [
      "c:\\Miniconda\\envs\\azureml_py36_tensorflow\\lib\\site-packages\\tensorflow_core\\python\\framework\\indexed_slices.py:433: UserWarning: Converting sparse IndexedSlices to a dense Tensor of unknown shape. This may consume a large amount of memory.\n",
      "  \"Converting sparse IndexedSlices to a dense Tensor of unknown shape. \"\n"
     ]
    },
    {
     "name": "stdout",
     "output_type": "stream",
     "text": [
      "Train on 28151 samples, validate on 12065 samples\n",
      "Epoch 1/20\n",
      "28151/28151 [==============================] - 1765s 63ms/step - loss: 3.4138 - accuracy: 0.2464 - val_loss: 2.6892 - val_accuracy: 0.4104\n",
      "Epoch 2/20\n",
      "28151/28151 [==============================] - 1759s 62ms/step - loss: 2.6564 - accuracy: 0.4079 - val_loss: 2.2689 - val_accuracy: 0.5213\n",
      "Epoch 3/20\n",
      "28151/28151 [==============================] - 1755s 62ms/step - loss: 2.2418 - accuracy: 0.5054 - val_loss: 2.0726 - val_accuracy: 0.5752\n",
      "Epoch 4/20\n",
      "28151/28151 [==============================] - 1757s 62ms/step - loss: 2.0091 - accuracy: 0.5490 - val_loss: 2.0149 - val_accuracy: 0.5838\n",
      "Epoch 5/20\n",
      "28151/28151 [==============================] - 1764s 63ms/step - loss: 1.8751 - accuracy: 0.5711 - val_loss: 2.0201 - val_accuracy: 0.5754\n",
      "Epoch 6/20\n",
      "28151/28151 [==============================] - 1754s 62ms/step - loss: 1.7746 - accuracy: 0.5912 - val_loss: 2.0026 - val_accuracy: 0.5949\n",
      "Epoch 7/20\n",
      "28151/28151 [==============================] - 1983s 70ms/step - loss: 1.6948 - accuracy: 0.6062 - val_loss: 2.0149 - val_accuracy: 0.5965\n",
      "Epoch 8/20\n",
      "28151/28151 [==============================] - 2019s 72ms/step - loss: 1.6246 - accuracy: 0.6190 - val_loss: 2.0275 - val_accuracy: 0.5926\n",
      "Epoch 9/20\n",
      "28151/28151 [==============================] - 2020s 72ms/step - loss: 1.5656 - accuracy: 0.6313 - val_loss: 2.0677 - val_accuracy: 0.5948\n",
      "Epoch 10/20\n",
      "28151/28151 [==============================] - 2017s 72ms/step - loss: 1.5114 - accuracy: 0.6376 - val_loss: 2.1426 - val_accuracy: 0.5910\n",
      "Epoch 11/20\n",
      "28151/28151 [==============================] - 2016s 72ms/step - loss: 1.4639 - accuracy: 0.6465 - val_loss: 2.1563 - val_accuracy: 0.5818\n",
      "Epoch 12/20\n",
      "28151/28151 [==============================] - 2015s 72ms/step - loss: 1.4192 - accuracy: 0.6533 - val_loss: 2.2221 - val_accuracy: 0.5846\n",
      "Epoch 13/20\n",
      "28151/28151 [==============================] - 2016s 72ms/step - loss: 1.3745 - accuracy: 0.6633 - val_loss: 2.2779 - val_accuracy: 0.5823\n",
      "Epoch 14/20\n",
      "28151/28151 [==============================] - 2016s 72ms/step - loss: 1.3371 - accuracy: 0.6682 - val_loss: 2.3639 - val_accuracy: 0.5854\n",
      "Epoch 15/20\n",
      "28151/28151 [==============================] - 2015s 72ms/step - loss: 1.2996 - accuracy: 0.6765 - val_loss: 2.4036 - val_accuracy: 0.5843\n",
      "Epoch 16/20\n",
      "28151/28151 [==============================] - 2014s 72ms/step - loss: 1.2651 - accuracy: 0.6827 - val_loss: 2.4726 - val_accuracy: 0.5830\n",
      "Epoch 17/20\n",
      "28151/28151 [==============================] - 2012s 71ms/step - loss: 1.2300 - accuracy: 0.6897 - val_loss: 2.5463 - val_accuracy: 0.5724\n",
      "Epoch 18/20\n",
      "28151/28151 [==============================] - 2010s 71ms/step - loss: 1.1951 - accuracy: 0.6950 - val_loss: 2.6060 - val_accuracy: 0.5758\n",
      "Epoch 19/20\n",
      "28151/28151 [==============================] - 1987s 71ms/step - loss: 1.1718 - accuracy: 0.7011 - val_loss: 2.6357 - val_accuracy: 0.5816\n",
      "Epoch 20/20\n",
      "28151/28151 [==============================] - 1961s 70ms/step - loss: 1.1425 - accuracy: 0.7037 - val_loss: 2.7532 - val_accuracy: 0.5704\n"
     ]
    }
   ],
   "source": [
    "model = Sequential()\n",
    "model.add(Embedding(vocabulary_size, seq_len, input_length=seq_len))\n",
    "model.add(LSTM(50,return_sequences=True))\n",
    "model.add(LSTM(50))\n",
    "model.add(Dense(50,activation='relu'))\n",
    "model.add(Dense(vocabulary_size, activation='softmax'))\n",
    "print(model.summary())\n",
    "# compile network\n",
    "model.compile(loss='categorical_crossentropy', optimizer='adam', metrics=['accuracy'])\n",
    "\n",
    "saver = CustomSaver()\n",
    "\n",
    "model.fit(train_inputs,train_targets, epochs = 20 ,verbose=1, validation_split=0.3, callbacks=[saver])\n",
    "model.save(\"mymodel.h5\")"
   ]
  },
  {
   "cell_type": "markdown",
   "metadata": {},
   "source": [
    "### Test Model"
   ]
  },
  {
   "cell_type": "code",
   "execution_count": 7,
   "metadata": {},
   "outputs": [
    {
     "name": "stdout",
     "output_type": "stream",
     "text": [
      "[2, 13, 35, 5] [[1001 1001 1001 1001 1001 1001 1001 1001 1001 1001 1001 1001 1001 1001\n",
      "  1001 1001 1001 1001 1001 1001 1001 1001 1001 1001 1001 1001 1001 1001\n",
      "  1001 1001 1001 1001 1001 1001 1001 1001 1001 1001 1001 1001 1001 1001\n",
      "  1001 1001 1001 1001 1001 1001 1001 1001 1001 1001 1001 1001 1001 1001\n",
      "  1001 1001 1001 1001 1001 1001 1001 1001 1001 1001 1001 1001 1001 1001\n",
      "  1001 1001 1001 1001 1001 1001 1001 1001 1001 1001 1001 1001 1001 1001\n",
      "  1001 1001 1001 1001 1001 1001 1001 1001 1001 1001 1001 1001 1001 1001\n",
      "  1001 1001 1001 1001 1001 1001 1001 1001 1001 1001 1001 1001 1001 1001\n",
      "  1001 1001 1001 1001 1001 1001 1001 1001 1001 1001 1001 1001 1001 1001\n",
      "  1001 1001 1001 1001 1001 1001 1001 1001 1001 1001 1001 1001 1001 1001\n",
      "  1001 1001 1001 1001 1001 1001 1001 1001 1001 1001 1001 1001 1001 1001\n",
      "  1001 1001 1001 1001 1001 1001 1001 1001 1001 1001 1001 1001 1001 1001\n",
      "  1001 1001 1001 1001 1001 1001 1001 1001 1001 1001 1001 1001 1001 1001\n",
      "  1001 1001 1001 1001 1001 1001 1001 1001 1001 1001 1001 1001 1001 1001\n",
      "  1001 1001 1001 1001 1001 1001 1001 1001 1001 1001 1001 1001 1001 1001\n",
      "  1001 1001 1001 1001 1001 1001 1001 1001 1001 1001 1001 1001 1001 1001\n",
      "  1001 1001 1001 1001 1001 1001 1001 1001 1001 1001 1001 1001 1001 1001\n",
      "  1001 1001 1001 1001 1001 1001 1001 1001 1001 1001 1001 1001 1001 1001\n",
      "  1001 1001 1001 1001 1001 1001 1001 1001 1001 1001 1001 1001 1001 1001\n",
      "  1001 1001 1001 1001 1001 1001 1001 1001 1001 1001 1001 1001 1001 1001\n",
      "  1001 1001 1001 1001 1001 1001 1001 1001 1001 1001 1001 1001 1001 1001\n",
      "  1001 1001 1001 1001 1001 1001 1001 1001 1001 1001 1001 1001 1001 1001\n",
      "  1001 1001 1001 1001 1001 1001 1001 1001 1001 1001 1001 1001 1001 1001\n",
      "  1001 1001 1001 1001 1001 1001 1001 1001 1001 1001 1001 1001 1001 1001\n",
      "  1001 1001 1001 1001 1001 1001 1001 1001 1001 1001 1001 1001 1001 1001\n",
      "  1001 1001 1001 1001 1001 1001 1001 1001 1001 1001 1001 1001 1001 1001\n",
      "  1001 1001 1001 1001 1001 1001 1001 1001 1001 1001 1001 1001 1001 1001\n",
      "  1001 1001 1001 1001 1001 1001 1001 1001 1001 1001 1001 1001 1001 1001\n",
      "  1001 1001 1001 1001 1001 1001 1001 1001 1001 1001 1001 1001 1001 1001\n",
      "  1001 1001 1001 1001 1001 1001 1001 1001 1001 1001 1001 1001 1001 1001\n",
      "  1001 1001 1001 1001 1001 1001 1001 1001 1001 1001 1001 1001 1001 1001\n",
      "  1001 1001 1001 1001 1001 1001 1001 1001 1001 1001 1001 1001 1001 1001\n",
      "  1001 1001 1001 1001 1001 1001 1001 1001 1001 1001 1001 1001 1001 1001\n",
      "  1001 1001 1001 1001 1001 1001 1001 1001 1001 1001 1001 1001 1001 1001\n",
      "  1001 1001 1001 1001 1001 1001 1001 1001 1001 1001 1001 1001 1001 1001\n",
      "  1001 1001 1001 1001 1001 1001 1001 1001 1001 1001 1001 1001 1001 1001\n",
      "  1001 1001 1001 1001 1001 1001 1001 1001 1001 1001 1001 1001 1001 1001\n",
      "  1001 1001 1001 1001 1001 1001 1001 1001 1001 1001 1001 1001 1001 1001\n",
      "  1001 1001 1001 1001 1001 1001 1001 1001 1001 1001 1001 1001 1001 1001\n",
      "  1001 1001 1001 1001 1001 1001 1001 1001 1001 1001 1001 1001 1001 1001\n",
      "  1001 1001 1001 1001 1001 1001 1001 1001 1001 1001 1001 1001 1001 1001\n",
      "  1001 1001 1001 1001 1001 1001 1001 1001 1001 1001 1001 1001 1001 1001\n",
      "  1001 1001 1001 1001 1001 1001 1001 1001 1001 1001 1001 1001 1001 1001\n",
      "  1001 1001 1001 1001 1001 1001 1001 1001 1001 1001 1001 1001 1001 1001\n",
      "  1001 1001 1001 1001 1001 1001 1001 1001 1001 1001 1001 1001 1001 1001\n",
      "  1001 1001 1001 1001 1001 1001 1001 1001 1001 1001 1001 1001 1001 1001\n",
      "  1001 1001 1001 1001 1001 1001 1001 1001 1001 1001 1001 1001 1001 1001\n",
      "  1001 1001 1001 1001 1001 1001 1001 1001 1001 1001 1001 1001 1001 1001\n",
      "  1001 1001 1001 1001 1001 1001 1001 1001 1001 1001 1001 1001 1001 1001\n",
      "  1001 1001 1001 1001 1001 1001 1001 1001 1001 1001 1001 1001 1001 1001\n",
      "  1001 1001 1001 1001 1001 1001 1001 1001 1001 1001 1001 1001 1001 1001\n",
      "  1001 1001 1001 1001 1001 1001 1001 1001 1001 1001 1001 1001 1001 1001\n",
      "  1001 1001 1001 1001 1001 1001 1001 1001 1001 1001 1001 1001 1001 1001\n",
      "  1001 1001 1001 1001 1001 1001 1001 1001 1001 1001 1001 1001 1001 1001\n",
      "  1001 1001 1001 1001 1001 1001 1001 1001 1001 1001 1001 1001 1001 1001\n",
      "  1001 1001 1001 1001 1001 1001 1001 1001 1001 1001 1001 1001 1001 1001\n",
      "  1001 1001 1001 1001 1001 1001 1001 1001 1001 1001 1001 1001 1001 1001\n",
      "  1001 1001 1001 1001 1001 1001 1001 1001 1001 1001 1001 1001 1001 1001\n",
      "  1001 1001 1001 1001 1001 1001 1001 1001 1001 1001 1001 1001 1001 1001\n",
      "  1001 1001 1001 1001 1001 1001 1001 1001 1001 1001 1001 1001 1001 1001\n",
      "  1001 1001 1001 1001 1001 1001 1001 1001 1001 1001 1001 1001 1001 1001\n",
      "  1001 1001 1001 1001 1001 1001 1001 1001 1001 1001 1001 1001 1001 1001\n",
      "  1001 1001 1001 1001 1001 1001 1001 1001 1001 1001 1001 1001 1001 1001\n",
      "  1001 1001 1001 1001 1001 1001 1001 1001 1001 1001 1001 1001 1001 1001\n",
      "  1001 1001 1001 1001 1001 1001 1001 1001 1001 1001 1001 1001 1001 1001\n",
      "  1001 1001 1001 1001 1001 1001 1001 1001 1001 1001 1001 1001 1001 1001\n",
      "  1001 1001 1001 1001 1001 1001 1001 1001 1001 1001 1001 1001 1001 1001\n",
      "  1001 1001 1001 1001 1001 1001 1001 1001 1001 1001 1001 1001 1001 1001\n",
      "  1001 1001 1001 1001 1001 1001 1001 1001 1001 1001 1001 1001 1001 1001\n",
      "  1001 1001 1001 1001 1001 1001 1001 1001 1001 1001 1001 1001 1001 1001\n",
      "  1001 1001 1001 1001 1001 1001 1001 1001 1001 1001 1001 1001 1001 1001\n",
      "  1001 1001    2   13   35    5]]\n",
      "Top 3 Suggestions:\n",
      "self\n",
      "<unk_token>\n",
      "(\n"
     ]
    }
   ],
   "source": [
    "from keras.preprocessing.sequence import pad_sequences\n",
    "\n",
    "# sample python input\n",
    "\"\"\"\n",
    "num = 46\n",
    "print\n",
    "\"\"\"\n",
    "encoded_text = [2,13,35,5]\n",
    "pad_encoded = pad_sequences([encoded_text], maxlen=seq_len, truncating='pre', value = int(vocab['<pad_token>']))\n",
    "print(encoded_text, pad_encoded)\n",
    "\n",
    "print(\"Top 3 Suggestions:\")\n",
    "for i in (model.predict(pad_encoded)[0]).argsort()[-3:][::-1]:\n",
    "    print(idToWord[i])"
   ]
  }
 ],
 "metadata": {
  "kernelspec": {
   "display_name": "Python 3.6 - AzureML - TensorFlow",
   "language": "python",
   "name": "azureml_py36_tensorflow"
  },
  "language_info": {
   "codemirror_mode": {
    "name": "ipython",
    "version": 3
   },
   "file_extension": ".py",
   "mimetype": "text/x-python",
   "name": "python",
   "nbconvert_exporter": "python",
   "pygments_lexer": "ipython3",
   "version": "3.6.9"
  }
 },
 "nbformat": 4,
 "nbformat_minor": 4
}
