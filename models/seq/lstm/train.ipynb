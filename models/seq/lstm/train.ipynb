{
 "cells": [
  {
   "cell_type": "code",
   "execution_count": 1,
   "metadata": {},
   "outputs": [
    {
     "name": "stderr",
     "output_type": "stream",
     "text": [
      "Using TensorFlow backend.\n"
     ]
    }
   ],
   "source": [
    "import numpy as np\n",
    "from keras.utils import to_categorical\n",
    "from keras.models import Sequential, load_model\n",
    "from keras.layers import Dense\n",
    "from keras.layers import LSTM\n",
    "from keras.layers import Embedding"
   ]
  },
  {
   "cell_type": "markdown",
   "metadata": {},
   "source": [
    "### Load Vocab"
   ]
  },
  {
   "cell_type": "code",
   "execution_count": 2,
   "metadata": {},
   "outputs": [],
   "source": [
    "vocab = {}\n",
    "idToWord = {}\n",
    "with open('vocab.txt') as f:\n",
    "    words = f.read().splitlines()\n",
    "    for wordIndex in words:\n",
    "        word, index = wordIndex.split(' -----> ')\n",
    "        vocab[word] = index\n",
    "        idToWord[int(index)] = word"
   ]
  },
  {
   "cell_type": "markdown",
   "metadata": {},
   "source": [
    "### Create input squences"
   ]
  },
  {
   "cell_type": "code",
   "execution_count": 3,
   "metadata": {},
   "outputs": [
    {
     "data": {
      "text/plain": [
       "array([[1000,   17,  616, ..., 1000,    4,  389],\n",
       "       [  17,  616,   17, ...,    4,  389,    0],\n",
       "       [ 616,   17,  243, ...,  389,    0, 1000],\n",
       "       ...,\n",
       "       [  31,  675,    1, ...,    5,   13, 1000],\n",
       "       [ 675,    1,   23, ...,   13, 1000,   29],\n",
       "       [   1,   23,   16, ..., 1000,   29,    5]])"
      ]
     },
     "execution_count": 3,
     "metadata": {},
     "output_type": "execute_result"
    }
   ],
   "source": [
    "look_back_len = 1000 + 1\n",
    "sequences = []\n",
    "vocabulary_size = len(vocab)\n",
    "\n",
    "with open('int-seq.txt') as f:\n",
    "    files = f.read().splitlines()\n",
    "    for file in files:\n",
    "        numbers = list(map(int, file.split(',')[:-1]))\n",
    "        #print(numbers)\n",
    "        for i in range(look_back_len, len(numbers)):\n",
    "            seq = numbers[i-look_back_len:i]\n",
    "            sequences.append(seq)\n",
    "    #print(sequences)\n",
    "\n",
    "    n_sequences = np.empty([len(sequences), look_back_len], dtype='int32')\n",
    "    for i in range(len(sequences)):\n",
    "        n_sequences[i] = sequences[i]\n",
    "\n",
    "n_sequences"
   ]
  },
  {
   "cell_type": "markdown",
   "metadata": {},
   "source": [
    "### Convert output to one hot encoded vector"
   ]
  },
  {
   "cell_type": "code",
   "execution_count": 4,
   "metadata": {},
   "outputs": [
    {
     "name": "stdout",
     "output_type": "stream",
     "text": [
      "38318\n",
      "[0. 0. 0. ... 0. 0. 0.]\n"
     ]
    }
   ],
   "source": [
    "train_inputs = n_sequences[:,:-1]\n",
    "train_targets = n_sequences[:,-1]\n",
    "print(len(train_targets))\n",
    "\n",
    "train_targets = to_categorical(train_targets, num_classes=vocabulary_size)\n",
    "seq_len = train_inputs.shape[1]\n",
    "print(train_targets[0])"
   ]
  },
  {
   "cell_type": "markdown",
   "metadata": {},
   "source": [
    "### Train Model"
   ]
  },
  {
   "cell_type": "code",
   "execution_count": 5,
   "metadata": {},
   "outputs": [],
   "source": [
    "import keras\n",
    "class CustomSaver(keras.callbacks.Callback):\n",
    "    def on_epoch_end(self, epoch, logs={}):\n",
    "        self.model.save(\"model_{}.hd5\".format(epoch))"
   ]
  },
  {
   "cell_type": "code",
   "execution_count": null,
   "metadata": {},
   "outputs": [
    {
     "name": "stdout",
     "output_type": "stream",
     "text": [
      "Model: \"sequential_1\"\n",
      "_________________________________________________________________\n",
      "Layer (type)                 Output Shape              Param #   \n",
      "=================================================================\n",
      "embedding_1 (Embedding)      (None, 1000, 1000)        1002000   \n",
      "_________________________________________________________________\n",
      "lstm_1 (LSTM)                (None, 1000, 50)          210200    \n",
      "_________________________________________________________________\n",
      "lstm_2 (LSTM)                (None, 50)                20200     \n",
      "_________________________________________________________________\n",
      "dense_1 (Dense)              (None, 50)                2550      \n",
      "_________________________________________________________________\n",
      "dense_2 (Dense)              (None, 1002)              51102     \n",
      "=================================================================\n",
      "Total params: 1,286,052\n",
      "Trainable params: 1,286,052\n",
      "Non-trainable params: 0\n",
      "_________________________________________________________________\n",
      "None\n"
     ]
    },
    {
     "name": "stderr",
     "output_type": "stream",
     "text": [
      "c:\\Miniconda\\envs\\azureml_py36_tensorflow\\lib\\site-packages\\tensorflow_core\\python\\framework\\indexed_slices.py:433: UserWarning: Converting sparse IndexedSlices to a dense Tensor of unknown shape. This may consume a large amount of memory.\n",
      "  \"Converting sparse IndexedSlices to a dense Tensor of unknown shape. \"\n"
     ]
    },
    {
     "name": "stdout",
     "output_type": "stream",
     "text": [
      "Train on 26822 samples, validate on 11496 samples\n",
      "Epoch 1/20\n",
      "26822/26822 [==============================] - 1978s 74ms/step - loss: 3.5003 - accuracy: 0.2572 - val_loss: 2.7112 - val_accuracy: 0.4349\n",
      "Epoch 2/20\n",
      "26822/26822 [==============================] - 1968s 73ms/step - loss: 2.8329 - accuracy: 0.3872 - val_loss: 2.4142 - val_accuracy: 0.5154\n",
      "Epoch 3/20\n",
      "26822/26822 [==============================] - 2027s 76ms/step - loss: 2.4725 - accuracy: 0.4745 - val_loss: 2.2719 - val_accuracy: 0.5516\n",
      "Epoch 4/20\n",
      "26822/26822 [==============================] - 2112s 79ms/step - loss: 2.2559 - accuracy: 0.5141 - val_loss: 2.2414 - val_accuracy: 0.5569\n",
      "Epoch 5/20\n",
      "26822/26822 [==============================] - 2126s 79ms/step - loss: 2.0993 - accuracy: 0.5406 - val_loss: 2.2265 - val_accuracy: 0.5642\n",
      "Epoch 6/20\n",
      "26822/26822 [==============================] - 2147s 80ms/step - loss: 1.9725 - accuracy: 0.5641 - val_loss: 2.2173 - val_accuracy: 0.5668\n",
      "Epoch 7/20\n",
      "26822/26822 [==============================] - 2187s 82ms/step - loss: 1.8718 - accuracy: 0.5767 - val_loss: 2.2609 - val_accuracy: 0.5443\n",
      "Epoch 8/20\n",
      "26822/26822 [==============================] - 2270s 85ms/step - loss: 1.7862 - accuracy: 0.5924 - val_loss: 2.2895 - val_accuracy: 0.5619\n",
      "Epoch 9/20\n",
      "26822/26822 [==============================] - 2274s 85ms/step - loss: 1.7203 - accuracy: 0.6031 - val_loss: 2.2403 - val_accuracy: 0.5756\n",
      "Epoch 10/20\n",
      "26822/26822 [==============================] - 2272s 85ms/step - loss: 1.6514 - accuracy: 0.6116 - val_loss: 2.2786 - val_accuracy: 0.5685\n",
      "Epoch 11/20\n",
      "26822/26822 [==============================] - 2273s 85ms/step - loss: 1.5939 - accuracy: 0.6225 - val_loss: 2.3722 - val_accuracy: 0.5663\n",
      "Epoch 12/20\n",
      "26822/26822 [==============================] - 2274s 85ms/step - loss: 1.5412 - accuracy: 0.6303 - val_loss: 2.4541 - val_accuracy: 0.5569\n",
      "Epoch 13/20\n",
      "11392/26822 [===========>..................] - ETA: 19:39 - loss: 1.4837 - accuracy: 0.6397"
     ]
    }
   ],
   "source": [
    "model = Sequential()\n",
    "model.add(Embedding(vocabulary_size, seq_len, input_length=seq_len))\n",
    "model.add(LSTM(50,return_sequences=True))\n",
    "model.add(LSTM(50))\n",
    "model.add(Dense(50,activation='relu'))\n",
    "model.add(Dense(vocabulary_size, activation='softmax'))\n",
    "print(model.summary())\n",
    "# compile network\n",
    "model.compile(loss='categorical_crossentropy', optimizer='adam', metrics=['accuracy'])\n",
    "\n",
    "saver = CustomSaver()\n",
    "\n",
    "model.fit(train_inputs,train_targets, epochs = 20 ,verbose=1, validation_split=0.3, callbacks=[saver])\n",
    "model.save(\"mymodel.h5\")"
   ]
  },
  {
   "cell_type": "markdown",
   "metadata": {},
   "source": [
    "### Test Model"
   ]
  },
  {
   "cell_type": "code",
   "execution_count": 24,
   "metadata": {},
   "outputs": [
    {
     "name": "stdout",
     "output_type": "stream",
     "text": [
      "[2, 13, 35, 5] [[36  2 13 35  5]]\n",
      "Top 3 Suggestions:\n",
      "num\n",
      "1\n",
      "n\n"
     ]
    }
   ],
   "source": [
    "from keras.preprocessing.sequence import pad_sequences\n",
    "\n",
    "# sample python input\n",
    "\"\"\"\n",
    "num = 46\n",
    "print\n",
    "\"\"\"\n",
    "encoded_text = [2,13,35,5]\n",
    "pad_encoded = pad_sequences([encoded_text], maxlen=seq_len, truncating='pre', value = int(vocab['<pad_token>']))\n",
    "print(encoded_text, pad_encoded)\n",
    "\n",
    "print(\"Top 3 Suggestions:\")\n",
    "for i in (model.predict(pad_encoded)[0]).argsort()[-3:][::-1]:\n",
    "    print(idToWord[i])"
   ]
  },
  {
   "cell_type": "code",
   "execution_count": null,
   "metadata": {},
   "outputs": [],
   "source": [
    "def Predict(n_sequences, vocab, idToWord, int_seq_fp):\n",
    "    train_inputs = n_sequences[:, :-1]\n",
    "    seq_len = train_inputs.shape[1]\n",
    "    model = load_model('mymodel.h5')\n",
    "    # ratio of successful predicted tokens for each input sequence\n",
    "    score = []\n",
    "    # top k suggestions\n",
    "    k = 5\n",
    "    with open(int_seq_fp) as fp:\n",
    "        for line in fp:\n",
    "            seq = [int(x) for x in line.split(',')[:-1]]\n",
    "            print(seq)\n",
    "            encoded_text_c1 = []\n",
    "            encoded_text_c2 = []\n",
    "            sub_score = 0\n",
    "            for idx in range(0, len(seq) - 1):\n",
    "                to_print = []\n",
    "                if (seq_len - idx) > 0:\n",
    "                    encoded_text_c1.append(seq[idx])\n",
    "                    value = int(vocab['<pad_token>'])\n",
    "                    pad_encoded = pad_sequences([encoded_text_c1], maxlen=seq_len, truncating='pre', value=value)\n",
    "                    for x in pad_encoded[0]:\n",
    "                        to_print.append(idToWord[x])\n",
    "                    print(\"Input sequence: \", to_print)\n",
    "                else:\n",
    "                    encoded_text_c2 = [seq[idx-4], seq[idx-3], seq[idx-2], seq[idx-1], seq[idx]]\n",
    "                    pad_encoded = pad_sequences([encoded_text_c2], maxlen=seq_len, truncating='pre', value=value)\n",
    "                    for x in pad_encoded[0]:\n",
    "                        to_print.append(idToWord[x])\n",
    "                    print(\"Input sequence: \", to_print)\n",
    "\n",
    "                top_k = []\n",
    "                top_k_id = []\n",
    "                for token_id in (model.predict(pad_encoded)[0]).argsort()[-k:][::-1]:\n",
    "                    #print(idToWord[token_id])\n",
    "                    top_k.append(idToWord[token_id])\n",
    "                    top_k_id.append(token_id)\n",
    "\n",
    "                print(\"Top \", k, \" Suggestions: \", top_k_id)\n",
    "                next_token = seq[idx + 1]\n",
    "                print(\"ground truth\", next_token)\n",
    "\n",
    "                if next_token in top_k_id:\n",
    "                    sub_score += 1\n",
    "                print(\"\\n\")\n",
    "            score.append(sub_score/len(seq))\n",
    "    print(\"accuracy for prediction for each code file\")\n",
    "    print(score)\n"
   ]
  }
 ],
 "metadata": {
  "kernelspec": {
   "display_name": "Python 3.6 - AzureML - TensorFlow",
   "language": "python",
   "name": "azureml_py36_tensorflow"
  },
  "language_info": {
   "codemirror_mode": {
    "name": "ipython",
    "version": 3
   },
   "file_extension": ".py",
   "mimetype": "text/x-python",
   "name": "python",
   "nbconvert_exporter": "python",
   "pygments_lexer": "ipython3",
   "version": "3.6.9"
  }
 },
 "nbformat": 4,
 "nbformat_minor": 4
}
