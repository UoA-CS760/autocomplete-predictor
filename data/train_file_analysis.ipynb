{
 "cells": [
  {
   "cell_type": "markdown",
   "metadata": {},
   "source": [
    "# Analysis of Training Files\n",
    "\n",
    "1. Do the test set and train set come from the same project?\n",
    "2. How clean is the dataset? Is it script only? Is it coded by professionals with same style? Or mixed?\n",
    "\n",
    "for test set vs validation set?\n",
    "\n",
    "how many are class based / function based / both?\n",
    "\n",
    "how many are inline code vs modular?\n",
    "\n",
    "inline variable definition?"
   ]
  },
  {
   "cell_type": "code",
   "execution_count": 1,
   "metadata": {},
   "outputs": [
    {
     "name": "stdout",
     "output_type": "stream",
     "text": [
      "found 10000 train files\n",
      "found 50 test files\n"
     ]
    }
   ],
   "source": [
    "import os\n",
    "import pandas as pd\n",
    "import numpy as np\n",
    "from matplotlib import pyplot as plt\n",
    "%matplotlib inline\n",
    "\n",
    "# search training files\n",
    "train_file_dir = 'train_files'\n",
    "train_file_list = os.listdir(train_file_dir)\n",
    "\n",
    "file_count = 0\n",
    "for fp in train_file_list:\n",
    "    if os.path.splitext(fp)[1].lower() != '.py':\n",
    "        raise ValueError(f'unknown file! {fp}')\n",
    "    file_count += 1\n",
    "\n",
    "df_train = pd.DataFrame(train_file_list, columns=[\n",
    "    'filename'\n",
    "])\n",
    "df_train = df_train.reset_index()\n",
    "\n",
    "print(f'found {len(df_train)} train files')\n",
    "\n",
    "# search test files\n",
    "test_file_dir = 'test_files'\n",
    "test_file_list = os.listdir(test_file_dir)\n",
    "\n",
    "file_count = 0\n",
    "for fp in test_file_list:\n",
    "    if os.path.splitext(fp)[1].lower() != '.py':\n",
    "        raise ValueError(f'unknown file! {fp}')\n",
    "    file_count += 1\n",
    "\n",
    "df_test = pd.DataFrame(test_file_list, columns=[\n",
    "    'filename'\n",
    "])\n",
    "df_test = df_test.reset_index()\n",
    "print(f'found {len(df_test)} test files')"
   ]
  },
  {
   "cell_type": "code",
   "execution_count": 2,
   "metadata": {
    "collapsed": false,
    "jupyter": {
     "outputs_hidden": false
    },
    "pycharm": {
     "name": "#%%\n"
    }
   },
   "outputs": [],
   "source": [
    "def load_stats(df, files_dir):\n",
    "    filenames = df['filename']\n",
    "    # load line count\n",
    "    non_empty_line_count = {}\n",
    "    is_init = {}\n",
    "    root_class_count = {}\n",
    "    root_function_count = {}\n",
    "\n",
    "    for fn in filenames:\n",
    "        try:\n",
    "            with open(os.path.join(files_dir, fn), 'r', encoding='utf-8', errors='ignore') as f :\n",
    "                lines = f.readlines()\n",
    "                lines = [l.strip('\\n') for l in lines]\n",
    "                lines = [l for l in lines if len(l.strip()) > 0]\n",
    "                non_empty_line_count[fn] = len(lines)\n",
    "\n",
    "                curr_is_init = '__init__.py' == fn[-1 * len('__init__.py'):]\n",
    "                is_init[fn] = curr_is_init\n",
    "\n",
    "                curr_root_class_count = len([l for l in lines if l[:len('class')] == 'class'])\n",
    "                root_class_count[fn] = curr_root_class_count\n",
    "\n",
    "                curr_root_function_count = len([l for l in lines if l[:len('def')] == 'def'])\n",
    "                root_function_count[fn] = curr_root_function_count\n",
    "\n",
    "        except Exception as e:\n",
    "            print(fn)\n",
    "            raise e\n",
    "\n",
    "    df['non_empty_line_count'] = non_empty_line_count.values()\n",
    "    df['is_init'] = is_init.values()\n",
    "    df['root_class_count'] = root_class_count.values()\n",
    "    df['root_function_count'] = root_function_count.values()\n",
    "    \n",
    "load_stats(df_test, test_file_dir)\n",
    "load_stats(df_train, train_file_dir)"
   ]
  },
  {
   "cell_type": "code",
   "execution_count": 3,
   "metadata": {
    "collapsed": false,
    "jupyter": {
     "outputs_hidden": false
    },
    "pycharm": {
     "name": "#%%\n"
    }
   },
   "outputs": [
    {
     "data": {
      "text/html": [
       "<div>\n",
       "<style scoped>\n",
       "    .dataframe tbody tr th:only-of-type {\n",
       "        vertical-align: middle;\n",
       "    }\n",
       "\n",
       "    .dataframe tbody tr th {\n",
       "        vertical-align: top;\n",
       "    }\n",
       "\n",
       "    .dataframe thead th {\n",
       "        text-align: right;\n",
       "    }\n",
       "</style>\n",
       "<table border=\"1\" class=\"dataframe\">\n",
       "  <thead>\n",
       "    <tr style=\"text-align: right;\">\n",
       "      <th></th>\n",
       "      <th>index</th>\n",
       "      <th>filename</th>\n",
       "      <th>non_empty_line_count</th>\n",
       "      <th>is_init</th>\n",
       "      <th>root_class_count</th>\n",
       "      <th>root_function_count</th>\n",
       "    </tr>\n",
       "  </thead>\n",
       "  <tbody>\n",
       "    <tr>\n",
       "      <th>0</th>\n",
       "      <td>0</td>\n",
       "      <td>data_alan-hicks_django-dmarc_docs_conf.py</td>\n",
       "      <td>196</td>\n",
       "      <td>False</td>\n",
       "      <td>0</td>\n",
       "      <td>0</td>\n",
       "    </tr>\n",
       "    <tr>\n",
       "      <th>1</th>\n",
       "      <td>1</td>\n",
       "      <td>data_QingdaoU_OnlineJudge_utils_management_com...</td>\n",
       "      <td>17</td>\n",
       "      <td>False</td>\n",
       "      <td>1</td>\n",
       "      <td>0</td>\n",
       "    </tr>\n",
       "    <tr>\n",
       "      <th>2</th>\n",
       "      <td>2</td>\n",
       "      <td>data_all-umass_metric-learn_metric_learn_lsml.py</td>\n",
       "      <td>118</td>\n",
       "      <td>False</td>\n",
       "      <td>1</td>\n",
       "      <td>1</td>\n",
       "    </tr>\n",
       "    <tr>\n",
       "      <th>3</th>\n",
       "      <td>3</td>\n",
       "      <td>data_goodfeli_adversarial_parzen_ll.py</td>\n",
       "      <td>123</td>\n",
       "      <td>False</td>\n",
       "      <td>0</td>\n",
       "      <td>7</td>\n",
       "    </tr>\n",
       "    <tr>\n",
       "      <th>4</th>\n",
       "      <td>4</td>\n",
       "      <td>data_anhstudios_swganh_data_scripts_templates_...</td>\n",
       "      <td>12</td>\n",
       "      <td>False</td>\n",
       "      <td>0</td>\n",
       "      <td>1</td>\n",
       "    </tr>\n",
       "  </tbody>\n",
       "</table>\n",
       "</div>"
      ],
      "text/plain": [
       "   index                                           filename  \\\n",
       "0      0          data_alan-hicks_django-dmarc_docs_conf.py   \n",
       "1      1  data_QingdaoU_OnlineJudge_utils_management_com...   \n",
       "2      2   data_all-umass_metric-learn_metric_learn_lsml.py   \n",
       "3      3             data_goodfeli_adversarial_parzen_ll.py   \n",
       "4      4  data_anhstudios_swganh_data_scripts_templates_...   \n",
       "\n",
       "   non_empty_line_count  is_init  root_class_count  root_function_count  \n",
       "0                   196    False                 0                    0  \n",
       "1                    17    False                 1                    0  \n",
       "2                   118    False                 1                    1  \n",
       "3                   123    False                 0                    7  \n",
       "4                    12    False                 0                    1  "
      ]
     },
     "execution_count": 3,
     "metadata": {},
     "output_type": "execute_result"
    }
   ],
   "source": [
    "df_train.head()"
   ]
  },
  {
   "cell_type": "code",
   "execution_count": 4,
   "metadata": {},
   "outputs": [
    {
     "data": {
      "text/html": [
       "<div>\n",
       "<style scoped>\n",
       "    .dataframe tbody tr th:only-of-type {\n",
       "        vertical-align: middle;\n",
       "    }\n",
       "\n",
       "    .dataframe tbody tr th {\n",
       "        vertical-align: top;\n",
       "    }\n",
       "\n",
       "    .dataframe thead th {\n",
       "        text-align: right;\n",
       "    }\n",
       "</style>\n",
       "<table border=\"1\" class=\"dataframe\">\n",
       "  <thead>\n",
       "    <tr style=\"text-align: right;\">\n",
       "      <th></th>\n",
       "      <th>index</th>\n",
       "      <th>filename</th>\n",
       "      <th>non_empty_line_count</th>\n",
       "      <th>is_init</th>\n",
       "      <th>root_class_count</th>\n",
       "      <th>root_function_count</th>\n",
       "    </tr>\n",
       "  </thead>\n",
       "  <tbody>\n",
       "    <tr>\n",
       "      <th>0</th>\n",
       "      <td>0</td>\n",
       "      <td>data_ImageEngine_gaffer_python_GafferCortexUI_...</td>\n",
       "      <td>45</td>\n",
       "      <td>False</td>\n",
       "      <td>1</td>\n",
       "      <td>0</td>\n",
       "    </tr>\n",
       "    <tr>\n",
       "      <th>1</th>\n",
       "      <td>1</td>\n",
       "      <td>data_HewlettPackard_python-ilorest-library_src...</td>\n",
       "      <td>1829</td>\n",
       "      <td>False</td>\n",
       "      <td>17</td>\n",
       "      <td>0</td>\n",
       "    </tr>\n",
       "    <tr>\n",
       "      <th>2</th>\n",
       "      <td>2</td>\n",
       "      <td>data_Havate_havate-openstack_proto-build_gui_h...</td>\n",
       "      <td>31</td>\n",
       "      <td>False</td>\n",
       "      <td>3</td>\n",
       "      <td>0</td>\n",
       "    </tr>\n",
       "    <tr>\n",
       "      <th>3</th>\n",
       "      <td>3</td>\n",
       "      <td>data_ImageEngine_gaffer_python_GafferCortexTes...</td>\n",
       "      <td>59</td>\n",
       "      <td>False</td>\n",
       "      <td>1</td>\n",
       "      <td>0</td>\n",
       "    </tr>\n",
       "    <tr>\n",
       "      <th>4</th>\n",
       "      <td>4</td>\n",
       "      <td>data_IanLewis_django-lifestream_lifestream_rss.py</td>\n",
       "      <td>27</td>\n",
       "      <td>False</td>\n",
       "      <td>1</td>\n",
       "      <td>0</td>\n",
       "    </tr>\n",
       "  </tbody>\n",
       "</table>\n",
       "</div>"
      ],
      "text/plain": [
       "   index                                           filename  \\\n",
       "0      0  data_ImageEngine_gaffer_python_GafferCortexUI_...   \n",
       "1      1  data_HewlettPackard_python-ilorest-library_src...   \n",
       "2      2  data_Havate_havate-openstack_proto-build_gui_h...   \n",
       "3      3  data_ImageEngine_gaffer_python_GafferCortexTes...   \n",
       "4      4  data_IanLewis_django-lifestream_lifestream_rss.py   \n",
       "\n",
       "   non_empty_line_count  is_init  root_class_count  root_function_count  \n",
       "0                    45    False                 1                    0  \n",
       "1                  1829    False                17                    0  \n",
       "2                    31    False                 3                    0  \n",
       "3                    59    False                 1                    0  \n",
       "4                    27    False                 1                    0  "
      ]
     },
     "execution_count": 4,
     "metadata": {},
     "output_type": "execute_result"
    }
   ],
   "source": [
    "df_test.head()"
   ]
  },
  {
   "cell_type": "code",
   "execution_count": 5,
   "metadata": {
    "collapsed": false,
    "jupyter": {
     "outputs_hidden": false
    },
    "pycharm": {
     "name": "#%%\n"
    }
   },
   "outputs": [
    {
     "data": {
      "text/plain": [
       "<matplotlib.axes._subplots.AxesSubplot at 0x7fc37b2346d0>"
      ]
     },
     "execution_count": 5,
     "metadata": {},
     "output_type": "execute_result"
    },
    {
     "data": {
      "image/png": "[encoded data removed]",
      "text/plain": [
       "<Figure size 432x288 with 1 Axes>"
      ]
     },
     "metadata": {
      "needs_background": "light"
     },
     "output_type": "display_data"
    }
   ],
   "source": [
    "df_train.boxplot(column=['root_class_count', 'root_function_count'])"
   ]
  },
  {
   "cell_type": "code",
   "execution_count": 6,
   "metadata": {},
   "outputs": [
    {
     "data": {
      "text/plain": [
       "<matplotlib.axes._subplots.AxesSubplot at 0x7fc37a9f0d00>"
      ]
     },
     "execution_count": 6,
     "metadata": {},
     "output_type": "execute_result"
    },
    {
     "data": {
      "image/png": "[encoded data removed]",
      "text/plain": [
       "<Figure size 432x288 with 1 Axes>"
      ]
     },
     "metadata": {
      "needs_background": "light"
     },
     "output_type": "display_data"
    }
   ],
   "source": [
    "df_test.boxplot(column=['root_function_count', 'root_class_count'])"
   ]
  },
  {
   "cell_type": "code",
   "execution_count": 7,
   "metadata": {},
   "outputs": [
    {
     "data": {
      "text/plain": [
       "index                                                                8440\n",
       "filename                data_francelabs_datafari_windows_python_Lib_te...\n",
       "non_empty_line_count                                                 3884\n",
       "is_init                                                             False\n",
       "root_class_count                                                      176\n",
       "root_function_count                                                     2\n",
       "Name: 8440, dtype: object"
      ]
     },
     "execution_count": 7,
     "metadata": {},
     "output_type": "execute_result"
    }
   ],
   "source": [
    "df_train.loc[df_train['root_class_count'].idxmax()]"
   ]
  },
  {
   "cell_type": "code",
   "execution_count": 8,
   "metadata": {},
   "outputs": [
    {
     "data": {
      "image/png": "[encoded data removed]",
      "text/plain": [
       "<Figure size 432x288 with 1 Axes>"
      ]
     },
     "metadata": {},
     "output_type": "display_data"
    },
    {
     "data": {
      "image/png": "[encoded data removed]",
      "text/plain": [
       "<Figure size 432x288 with 1 Axes>"
      ]
     },
     "metadata": {},
     "output_type": "display_data"
    }
   ],
   "source": [
    "\n",
    "\n",
    "def module_pie(df, title):\n",
    "    class_only = df[(df['root_class_count'] > 0) & (df['root_function_count'] == 0)]\n",
    "    func_only = df[(df['root_class_count'] == 0) & (df['root_function_count'] > 0)]\n",
    "    class_func_both = df[(df['root_class_count'] > 0) & (df['root_function_count'] > 0)]\n",
    "\n",
    "    class_func_both_data = [len(class_only), len(func_only), len(class_func_both)]\n",
    "    class_func_both_data_labels = ['Class Only', 'Function Only', 'Both']\n",
    "    \n",
    "    def fmt_label(pct, allvals):\n",
    "        absolute = int(pct/100.*np.sum(allvals))\n",
    "        return \"{:.1f}%\\n({:d} files)\".format(pct, absolute)\n",
    "\n",
    "    fig = plt.figure()\n",
    "\n",
    "    ax = fig.add_axes([0,0,1,1])\n",
    "    ax.set_title(title)\n",
    "    ax.pie(class_func_both_data,labels=class_func_both_data_labels,\n",
    "            shadow=False, startangle=90, autopct=lambda pct: fmt_label(pct, class_func_both_data))\n",
    "    fig.savefig(f'{title}.png', figsize=(4, 4), dpi=200)\n",
    "    \n",
    "module_pie(df_train, 'train_module_types')\n",
    "module_pie(df_test, 'test_module_types')\n"
   ]
  },
  {
   "cell_type": "code",
   "execution_count": 9,
   "metadata": {
    "collapsed": false,
    "jupyter": {
     "outputs_hidden": false
    },
    "pycharm": {
     "name": "#%%\n"
    }
   },
   "outputs": [
    {
     "data": {
      "image/png": "[encoded data removed]",
      "text/plain": [
       "<Figure size 432x288 with 1 Axes>"
      ]
     },
     "metadata": {
      "needs_background": "light"
     },
     "output_type": "display_data"
    }
   ],
   "source": [
    "df_train.boxplot(column=['non_empty_line_count'])\n",
    "plt.title('train_line_count')\n",
    "plt.show()"
   ]
  },
  {
   "cell_type": "code",
   "execution_count": 10,
   "metadata": {},
   "outputs": [
    {
     "data": {
      "image/png": "[encoded data removed]",
      "text/plain": [
       "<Figure size 432x288 with 1 Axes>"
      ]
     },
     "metadata": {
      "needs_background": "light"
     },
     "output_type": "display_data"
    }
   ],
   "source": [
    "df_test.boxplot(column=['non_empty_line_count'])\n",
    "plt.title('test_line_count')\n",
    "plt.show()"
   ]
  },
  {
   "cell_type": "code",
   "execution_count": 11,
   "metadata": {
    "collapsed": false,
    "jupyter": {
     "outputs_hidden": false
    },
    "pycharm": {
     "name": "#%%\n"
    }
   },
   "outputs": [
    {
     "data": {
      "text/plain": [
       "index                                                                  49\n",
       "filename                data_IanLewis_kay_kay_lib_werkzeug_datastructu...\n",
       "non_empty_line_count                                                 1878\n",
       "is_init                                                             False\n",
       "root_class_count                                                       31\n",
       "root_function_count                                                     4\n",
       "Name: 49, dtype: object"
      ]
     },
     "execution_count": 11,
     "metadata": {},
     "output_type": "execute_result"
    }
   ],
   "source": [
    "df_test.loc[df_test['non_empty_line_count'].idxmax()]"
   ]
  },
  {
   "cell_type": "code",
   "execution_count": 12,
   "metadata": {
    "collapsed": false,
    "jupyter": {
     "outputs_hidden": false
    },
    "pycharm": {
     "name": "#%%\n"
    }
   },
   "outputs": [
    {
     "data": {
      "text/plain": [
       "index                                                                  49\n",
       "filename                data_lsaffre_lino_lino_modlib_plausibility___i...\n",
       "non_empty_line_count                                                   84\n",
       "is_init                                                              True\n",
       "root_class_count                                                        1\n",
       "root_function_count                                                     0\n",
       "Name: 49, dtype: object"
      ]
     },
     "execution_count": 12,
     "metadata": {},
     "output_type": "execute_result"
    }
   ],
   "source": [
    "df_train.loc[df_test['non_empty_line_count'].idxmax()]"
   ]
  },
  {
   "cell_type": "code",
   "execution_count": null,
   "metadata": {},
   "outputs": [],
   "source": []
  }
 ],
 "metadata": {
  "kernelspec": {
   "display_name": "Python 3",
   "language": "python",
   "name": "python3"
  },
  "language_info": {
   "codemirror_mode": {
    "name": "ipython",
    "version": 3
   },
   "file_extension": ".py",
   "mimetype": "text/x-python",
   "name": "python",
   "nbconvert_exporter": "python",
   "pygments_lexer": "ipython3",
   "version": "3.8.3"
  }
 },
 "nbformat": 4,
 "nbformat_minor": 4
}
