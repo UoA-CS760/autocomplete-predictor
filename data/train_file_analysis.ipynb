{
 "cells": [
  {
   "cell_type": "markdown",
   "metadata": {},
   "source": [
    "# Analysis of Training Files\n",
    "\n",
    "1. Do the test set and train set come from the same project?\n",
    "2. How clean is the dataset? Is it script only? Is it coded by professionals with same style? Or mixed?\n",
    "\n",
    "for test set vs validation set?\n",
    "\n",
    "how many are class based / function based / both?\n",
    "\n",
    "how many are inline code vs modular?\n",
    "\n",
    "inline variable definition?"
   ]
  },
  {
   "cell_type": "code",
   "execution_count": 1,
   "metadata": {},
   "outputs": [
    {
     "name": "stdout",
     "output_type": "stream",
     "text": [
      "found 10000 train files\n",
      "found 50 test files\n"
     ]
    }
   ],
   "source": [
    "import os\n",
    "import pandas as pd\n",
    "import numpy as np\n",
    "from matplotlib import pyplot as plt\n",
    "%matplotlib inline\n",
    "\n",
    "# search training files\n",
    "train_file_dir = 'train_files'\n",
    "train_file_list = os.listdir(train_file_dir)\n",
    "\n",
    "file_count = 0\n",
    "for fp in train_file_list:\n",
    "    if os.path.splitext(fp)[1].lower() != '.py':\n",
    "        raise ValueError(f'unknown file! {fp}')\n",
    "    file_count += 1\n",
    "\n",
    "df_train = pd.DataFrame(train_file_list, columns=[\n",
    "    'filename'\n",
    "])\n",
    "df_train = df_train.reset_index()\n",
    "\n",
    "print(f'found {len(df_train)} train files')\n",
    "\n",
    "# search test files\n",
    "test_file_dir = 'test_files'\n",
    "test_file_list = os.listdir(test_file_dir)\n",
    "\n",
    "file_count = 0\n",
    "for fp in test_file_list:\n",
    "    if os.path.splitext(fp)[1].lower() != '.py':\n",
    "        raise ValueError(f'unknown file! {fp}')\n",
    "    file_count += 1\n",
    "\n",
    "df_test = pd.DataFrame(test_file_list, columns=[\n",
    "    'filename'\n",
    "])\n",
    "df_test = df_test.reset_index()\n",
    "print(f'found {len(df_test)} test files')"
   ]
  },
  {
   "cell_type": "code",
   "execution_count": 2,
   "metadata": {
    "collapsed": false,
    "jupyter": {
     "outputs_hidden": false
    },
    "pycharm": {
     "name": "#%%\n"
    }
   },
   "outputs": [],
   "source": [
    "def load_stats(df, files_dir):\n",
    "    filenames = df['filename']\n",
    "    # load line count\n",
    "    non_empty_line_count = {}\n",
    "    is_init = {}\n",
    "    root_class_count = {}\n",
    "    root_function_count = {}\n",
    "\n",
    "    for fn in filenames:\n",
    "        try:\n",
    "            with open(os.path.join(files_dir, fn), 'r', encoding='utf-8', errors='ignore') as f :\n",
    "                lines = f.readlines()\n",
    "                lines = [l.strip('\\n') for l in lines]\n",
    "                lines = [l for l in lines if len(l.strip()) > 0]\n",
    "                non_empty_line_count[fn] = len(lines)\n",
    "\n",
    "                curr_is_init = '__init__.py' == fn[-1 * len('__init__.py'):]\n",
    "                is_init[fn] = curr_is_init\n",
    "\n",
    "                curr_root_class_count = len([l for l in lines if l[:len('class')] == 'class'])\n",
    "                root_class_count[fn] = curr_root_class_count\n",
    "\n",
    "                curr_root_function_count = len([l for l in lines if l[:len('def')] == 'def'])\n",
    "                root_function_count[fn] = curr_root_function_count\n",
    "\n",
    "        except Exception as e:\n",
    "            print(fn)\n",
    "            raise e\n",
    "\n",
    "    df['non_empty_line_count'] = non_empty_line_count.values()\n",
    "    df['is_init'] = is_init.values()\n",
    "    df['root_class_count'] = root_class_count.values()\n",
    "    df['root_function_count'] = root_function_count.values()\n",
    "    \n",
    "load_stats(df_test, test_file_dir)\n",
    "load_stats(df_train, train_file_dir)"
   ]
  },
  {
   "cell_type": "code",
   "execution_count": 3,
   "metadata": {
    "collapsed": false,
    "jupyter": {
     "outputs_hidden": false
    },
    "pycharm": {
     "name": "#%%\n"
    }
   },
   "outputs": [
    {
     "data": {
      "text/html": [
       "<div>\n",
       "<style scoped>\n",
       "    .dataframe tbody tr th:only-of-type {\n",
       "        vertical-align: middle;\n",
       "    }\n",
       "\n",
       "    .dataframe tbody tr th {\n",
       "        vertical-align: top;\n",
       "    }\n",
       "\n",
       "    .dataframe thead th {\n",
       "        text-align: right;\n",
       "    }\n",
       "</style>\n",
       "<table border=\"1\" class=\"dataframe\">\n",
       "  <thead>\n",
       "    <tr style=\"text-align: right;\">\n",
       "      <th></th>\n",
       "      <th>index</th>\n",
       "      <th>filename</th>\n",
       "      <th>non_empty_line_count</th>\n",
       "      <th>is_init</th>\n",
       "      <th>root_class_count</th>\n",
       "      <th>root_function_count</th>\n",
       "    </tr>\n",
       "  </thead>\n",
       "  <tbody>\n",
       "    <tr>\n",
       "      <th>0</th>\n",
       "      <td>0</td>\n",
       "      <td>data_alan-hicks_django-dmarc_docs_conf.py</td>\n",
       "      <td>196</td>\n",
       "      <td>False</td>\n",
       "      <td>0</td>\n",
       "      <td>0</td>\n",
       "    </tr>\n",
       "    <tr>\n",
       "      <th>1</th>\n",
       "      <td>1</td>\n",
       "      <td>data_QingdaoU_OnlineJudge_utils_management_com...</td>\n",
       "      <td>17</td>\n",
       "      <td>False</td>\n",
       "      <td>1</td>\n",
       "      <td>0</td>\n",
       "    </tr>\n",
       "    <tr>\n",
       "      <th>2</th>\n",
       "      <td>2</td>\n",
       "      <td>data_all-umass_metric-learn_metric_learn_lsml.py</td>\n",
       "      <td>118</td>\n",
       "      <td>False</td>\n",
       "      <td>1</td>\n",
       "      <td>1</td>\n",
       "    </tr>\n",
       "    <tr>\n",
       "      <th>3</th>\n",
       "      <td>3</td>\n",
       "      <td>data_goodfeli_adversarial_parzen_ll.py</td>\n",
       "      <td>123</td>\n",
       "      <td>False</td>\n",
       "      <td>0</td>\n",
       "      <td>7</td>\n",
       "    </tr>\n",
       "    <tr>\n",
       "      <th>4</th>\n",
       "      <td>4</td>\n",
       "      <td>data_anhstudios_swganh_data_scripts_templates_...</td>\n",
       "      <td>12</td>\n",
       "      <td>False</td>\n",
       "      <td>0</td>\n",
       "      <td>1</td>\n",
       "    </tr>\n",
       "  </tbody>\n",
       "</table>\n",
       "</div>"
      ],
      "text/plain": [
       "   index                                           filename  \\\n",
       "0      0          data_alan-hicks_django-dmarc_docs_conf.py   \n",
       "1      1  data_QingdaoU_OnlineJudge_utils_management_com...   \n",
       "2      2   data_all-umass_metric-learn_metric_learn_lsml.py   \n",
       "3      3             data_goodfeli_adversarial_parzen_ll.py   \n",
       "4      4  data_anhstudios_swganh_data_scripts_templates_...   \n",
       "\n",
       "   non_empty_line_count  is_init  root_class_count  root_function_count  \n",
       "0                   196    False                 0                    0  \n",
       "1                    17    False                 1                    0  \n",
       "2                   118    False                 1                    1  \n",
       "3                   123    False                 0                    7  \n",
       "4                    12    False                 0                    1  "
      ]
     },
     "execution_count": 3,
     "metadata": {},
     "output_type": "execute_result"
    }
   ],
   "source": [
    "df_train.head()"
   ]
  },
  {
   "cell_type": "code",
   "execution_count": 4,
   "metadata": {},
   "outputs": [
    {
     "data": {
      "text/html": [
       "<div>\n",
       "<style scoped>\n",
       "    .dataframe tbody tr th:only-of-type {\n",
       "        vertical-align: middle;\n",
       "    }\n",
       "\n",
       "    .dataframe tbody tr th {\n",
       "        vertical-align: top;\n",
       "    }\n",
       "\n",
       "    .dataframe thead th {\n",
       "        text-align: right;\n",
       "    }\n",
       "</style>\n",
       "<table border=\"1\" class=\"dataframe\">\n",
       "  <thead>\n",
       "    <tr style=\"text-align: right;\">\n",
       "      <th></th>\n",
       "      <th>index</th>\n",
       "      <th>filename</th>\n",
       "      <th>non_empty_line_count</th>\n",
       "      <th>is_init</th>\n",
       "      <th>root_class_count</th>\n",
       "      <th>root_function_count</th>\n",
       "    </tr>\n",
       "  </thead>\n",
       "  <tbody>\n",
       "    <tr>\n",
       "      <th>0</th>\n",
       "      <td>0</td>\n",
       "      <td>data_ImageEngine_gaffer_python_GafferCortexUI_...</td>\n",
       "      <td>45</td>\n",
       "      <td>False</td>\n",
       "      <td>1</td>\n",
       "      <td>0</td>\n",
       "    </tr>\n",
       "    <tr>\n",
       "      <th>1</th>\n",
       "      <td>1</td>\n",
       "      <td>data_HewlettPackard_python-ilorest-library_src...</td>\n",
       "      <td>1829</td>\n",
       "      <td>False</td>\n",
       "      <td>17</td>\n",
       "      <td>0</td>\n",
       "    </tr>\n",
       "    <tr>\n",
       "      <th>2</th>\n",
       "      <td>2</td>\n",
       "      <td>data_Havate_havate-openstack_proto-build_gui_h...</td>\n",
       "      <td>31</td>\n",
       "      <td>False</td>\n",
       "      <td>3</td>\n",
       "      <td>0</td>\n",
       "    </tr>\n",
       "    <tr>\n",
       "      <th>3</th>\n",
       "      <td>3</td>\n",
       "      <td>data_ImageEngine_gaffer_python_GafferCortexTes...</td>\n",
       "      <td>59</td>\n",
       "      <td>False</td>\n",
       "      <td>1</td>\n",
       "      <td>0</td>\n",
       "    </tr>\n",
       "    <tr>\n",
       "      <th>4</th>\n",
       "      <td>4</td>\n",
       "      <td>data_IanLewis_django-lifestream_lifestream_rss.py</td>\n",
       "      <td>27</td>\n",
       "      <td>False</td>\n",
       "      <td>1</td>\n",
       "      <td>0</td>\n",
       "    </tr>\n",
       "  </tbody>\n",
       "</table>\n",
       "</div>"
      ],
      "text/plain": [
       "   index                                           filename  \\\n",
       "0      0  data_ImageEngine_gaffer_python_GafferCortexUI_...   \n",
       "1      1  data_HewlettPackard_python-ilorest-library_src...   \n",
       "2      2  data_Havate_havate-openstack_proto-build_gui_h...   \n",
       "3      3  data_ImageEngine_gaffer_python_GafferCortexTes...   \n",
       "4      4  data_IanLewis_django-lifestream_lifestream_rss.py   \n",
       "\n",
       "   non_empty_line_count  is_init  root_class_count  root_function_count  \n",
       "0                    45    False                 1                    0  \n",
       "1                  1829    False                17                    0  \n",
       "2                    31    False                 3                    0  \n",
       "3                    59    False                 1                    0  \n",
       "4                    27    False                 1                    0  "
      ]
     },
     "execution_count": 4,
     "metadata": {},
     "output_type": "execute_result"
    }
   ],
   "source": [
    "df_test.head()"
   ]
  },
  {
   "cell_type": "code",
   "execution_count": 5,
   "metadata": {
    "collapsed": false,
    "jupyter": {
     "outputs_hidden": false
    },
    "pycharm": {
     "name": "#%%\n"
    }
   },
   "outputs": [
    {
     "data": {
      "text/plain": [
       "<matplotlib.axes._subplots.AxesSubplot at 0x7fc3079ed6d0>"
      ]
     },
     "execution_count": 5,
     "metadata": {},
     "output_type": "execute_result"
    },
    {
     "data": {
      "image/png": "[encoded data removed]",
      "text/plain": [
       "<Figure size 432x288 with 1 Axes>"
      ]
     },
     "metadata": {
      "needs_background": "light"
     },
     "output_type": "display_data"
    }
   ],
   "source": [
    "df_train.boxplot(column=['root_class_count', 'root_function_count'])"
   ]
  },
  {
   "cell_type": "code",
   "execution_count": 6,
   "metadata": {},
   "outputs": [
    {
     "data": {
      "text/plain": [
       "<matplotlib.axes._subplots.AxesSubplot at 0x7fc3071f8370>"
      ]
     },
     "execution_count": 6,
     "metadata": {},
     "output_type": "execute_result"
    },
    {
     "data": {
      "image/png": "[encoded data removed]",
      "text/plain": [
       "<Figure size 432x288 with 1 Axes>"
      ]
     },
     "metadata": {
      "needs_background": "light"
     },
     "output_type": "display_data"
    }
   ],
   "source": [
    "df_test.boxplot(column=['root_function_count', 'root_class_count'])"
   ]
  },
  {
   "cell_type": "code",
   "execution_count": 7,
   "metadata": {},
   "outputs": [
    {
     "data": {
      "text/plain": [
       "index                                                                8440\n",
       "filename                data_francelabs_datafari_windows_python_Lib_te...\n",
       "non_empty_line_count                                                 3884\n",
       "is_init                                                             False\n",
       "root_class_count                                                      176\n",
       "root_function_count                                                     2\n",
       "Name: 8440, dtype: object"
      ]
     },
     "execution_count": 7,
     "metadata": {},
     "output_type": "execute_result"
    }
   ],
   "source": [
    "df_train.loc[df_train['root_class_count'].idxmax()]"
   ]
  },
  {
   "cell_type": "code",
   "execution_count": 52,
   "metadata": {},
   "outputs": [
    {
     "data": {
      "image/png": "[encoded data removed]",
      "text/plain": [
       "<Figure size 432x288 with 1 Axes>"
      ]
     },
     "metadata": {},
     "output_type": "display_data"
    },
    {
     "data": {
      "image/png": "[encoded data removed]",
      "text/plain": [
       "<Figure size 432x288 with 1 Axes>"
      ]
     },
     "metadata": {},
     "output_type": "display_data"
    }
   ],
   "source": [
    "import math\n",
    "\n",
    "def module_pie(df, title):\n",
    "    class_only = df[(df['root_class_count'] > 0) & (df['root_function_count'] == 0)]\n",
    "    func_only = df[(df['root_class_count'] == 0) & (df['root_function_count'] > 0)]\n",
    "    class_func_both = df[(df['root_class_count'] > 0) & (df['root_function_count'] > 0)]\n",
    "    none_class_func = df[(df['root_class_count'] == 0) & (df['root_function_count'] == 0)]\n",
    "\n",
    "    class_func_both_data = [len(class_only), len(func_only), len(class_func_both), len(none_class_func)]\n",
    "    class_func_both_data_labels = ['Class Only', 'Function Only', 'Both', 'None']\n",
    "    \n",
    "    def fmt_label(pct, count):\n",
    "        absolute = round(pct / 100.0 * count, 1)\n",
    "        return \"{:1.1f}%\\n({:.0f} files)\".format(pct, absolute)\n",
    "\n",
    "    fig = plt.figure()\n",
    "\n",
    "    ax = fig.add_axes([0,0,1,1])\n",
    "    ax.set_title(title)\n",
    "    ax.pie(class_func_both_data,labels=class_func_both_data_labels,\n",
    "            shadow=False, startangle=90, autopct=lambda pct: fmt_label(pct, len(df)))\n",
    "    \n",
    "    fig.savefig(f'{title}.png', figsize=(4, 4), dpi=200, bbox_inches='tight')\n",
    "    \n",
    "module_pie(df_train, 'Train Set')\n",
    "module_pie(df_test, 'Test Set')\n"
   ]
  },
  {
   "cell_type": "code",
   "execution_count": 40,
   "metadata": {
    "collapsed": false,
    "jupyter": {
     "outputs_hidden": false
    },
    "pycharm": {
     "name": "#%%\n"
    }
   },
   "outputs": [
    {
     "data": {
      "image/png": "[encoded data removed]",
      "text/plain": [
       "<Figure size 432x288 with 1 Axes>"
      ]
     },
     "metadata": {
      "needs_background": "light"
     },
     "output_type": "display_data"
    }
   ],
   "source": [
    "df_train.boxplot(column=['non_empty_line_count'])\n",
    "plt.title('train_line_count')\n",
    "plt.show()"
   ]
  },
  {
   "cell_type": "code",
   "execution_count": 10,
   "metadata": {},
   "outputs": [
    {
     "data": {
      "image/png": "[encoded data removed]",
      "text/plain": [
       "<Figure size 432x288 with 1 Axes>"
      ]
     },
     "metadata": {
      "needs_background": "light"
     },
     "output_type": "display_data"
    }
   ],
   "source": [
    "df_test.boxplot(column=['non_empty_line_count'])\n",
    "plt.title('test_line_count')\n",
    "plt.show()"
   ]
  },
  {
   "cell_type": "code",
   "execution_count": 11,
   "metadata": {
    "collapsed": false,
    "jupyter": {
     "outputs_hidden": false
    },
    "pycharm": {
     "name": "#%%\n"
    }
   },
   "outputs": [
    {
     "data": {
      "text/plain": [
       "index                                                                  49\n",
       "filename                data_IanLewis_kay_kay_lib_werkzeug_datastructu...\n",
       "non_empty_line_count                                                 1878\n",
       "is_init                                                             False\n",
       "root_class_count                                                       31\n",
       "root_function_count                                                     4\n",
       "Name: 49, dtype: object"
      ]
     },
     "execution_count": 11,
     "metadata": {},
     "output_type": "execute_result"
    }
   ],
   "source": [
    "df_test.loc[df_test['non_empty_line_count'].idxmax()]"
   ]
  },
  {
   "cell_type": "code",
   "execution_count": 12,
   "metadata": {
    "collapsed": false,
    "jupyter": {
     "outputs_hidden": false
    },
    "pycharm": {
     "name": "#%%\n"
    }
   },
   "outputs": [
    {
     "data": {
      "text/plain": [
       "index                                                                  49\n",
       "filename                data_lsaffre_lino_lino_modlib_plausibility___i...\n",
       "non_empty_line_count                                                   84\n",
       "is_init                                                              True\n",
       "root_class_count                                                        1\n",
       "root_function_count                                                     0\n",
       "Name: 49, dtype: object"
      ]
     },
     "execution_count": 12,
     "metadata": {},
     "output_type": "execute_result"
    }
   ],
   "source": [
    "df_train.loc[df_test['non_empty_line_count'].idxmax()]"
   ]
  },
  {
   "cell_type": "code",
   "execution_count": 13,
   "metadata": {},
   "outputs": [],
   "source": [
    "def parse_import_files(file_list, file_dir):\n",
    "    \n",
    "    # parse_import('import hello as hi') = ['hello']\n",
    "    # parse_import('from matplotlib import plt as plt') = ['matplotlib']\n",
    "    # parse_import('import jank, james') = ['jank', 'james']\n",
    "    # parse_import('import time') = ['time']\n",
    "    # parse_import('') = []        \n",
    "    # parse_import('not import') = []\n",
    "    def parse_import(line):\n",
    "        if line[:len('import')] != 'import' and not line[:len('from')] == 'from':\n",
    "            return []\n",
    "\n",
    "        line = line.strip()\n",
    "        params = line.split()\n",
    "        params = params[1:]\n",
    "\n",
    "        imports = []\n",
    "    \n",
    "        for p in params:\n",
    "            p = p.strip()\n",
    "            has_more = p[-1] == ','\n",
    "\n",
    "            if not has_more:\n",
    "                imports.append(p)\n",
    "                break\n",
    "            else:\n",
    "                imports.append(p.strip(','))\n",
    "    \n",
    "        return imports\n",
    "\n",
    "    import_names = {}\n",
    "\n",
    "    for fn in file_list:\n",
    "        with open(os.path.join(file_dir, fn), 'r', encoding='utf-8', errors='ignore') as f:\n",
    "            lines = f.readlines()\n",
    "            for line in lines:\n",
    "                imports = parse_import(line)\n",
    "                if len(imports) > 0:\n",
    "                    for name in imports:\n",
    "                        count = import_names.get(name, 0)\n",
    "                        count += 1\n",
    "                        import_names[name] = count\n",
    "                        \n",
    "    return import_names\n",
    "\n",
    "train_imports = parse_import_files(df_train['filename'], train_file_dir)\n",
    "test_imports = parse_import_files(df_test['filename'], test_file_dir)\n",
    "\n",
    "def create_import_df(import_dict):\n",
    "    data = [[key, import_dict[key]] for key in import_dict.keys()]\n",
    "    return pd.DataFrame(data, columns=['import', 'count'])\n",
    "\n",
    "df_train_imports = create_import_df(train_imports).sort_values(by='count', ascending=False)\n",
    "df_test_imports = create_import_df(test_imports).sort_values(by='count', ascending=False)"
   ]
  },
  {
   "cell_type": "code",
   "execution_count": 14,
   "metadata": {},
   "outputs": [
    {
     "data": {
      "text/plain": [
       "<matplotlib.axes._subplots.AxesSubplot at 0x7fc30707ca30>"
      ]
     },
     "execution_count": 14,
     "metadata": {},
     "output_type": "execute_result"
    },
    {
     "data": {
      "image/png": "[encoded data removed]",
      "text/plain": [
       "<Figure size 432x288 with 1 Axes>"
      ]
     },
     "metadata": {
      "needs_background": "light"
     },
     "output_type": "display_data"
    }
   ],
   "source": [
    "df_train_imports[:5].plot.bar(x='import')"
   ]
  },
  {
   "cell_type": "code",
   "execution_count": 15,
   "metadata": {},
   "outputs": [
    {
     "data": {
      "text/plain": [
       "<matplotlib.axes._subplots.AxesSubplot at 0x7fc306ca18b0>"
      ]
     },
     "execution_count": 15,
     "metadata": {},
     "output_type": "execute_result"
    },
    {
     "data": {
      "image/png": "[encoded data removed]",
      "text/plain": [
       "<Figure size 432x288 with 1 Axes>"
      ]
     },
     "metadata": {
      "needs_background": "light"
     },
     "output_type": "display_data"
    }
   ],
   "source": [
    "df_test_imports[:5].plot.bar(x='import')"
   ]
  },
  {
   "cell_type": "code",
   "execution_count": 61,
   "metadata": {},
   "outputs": [],
   "source": [
    "inline_count = 0\n",
    "module_count = 0\n",
    "\n",
    "import io, tokenize, re\n",
    "def remove_comments_and_docstrings(source):\n",
    "    io_obj = io.StringIO(source)\n",
    "    out = \"\"\n",
    "    prev_toktype = tokenize.INDENT\n",
    "    last_lineno = -1\n",
    "    last_col = 0\n",
    "    for tok in tokenize.generate_tokens(io_obj.readline):\n",
    "        \n",
    "        # ignore lines that doesnt have code in first indent\n",
    "        is_root_line = len(tok.line) > 0 and tok.line[0] != ' '\n",
    "        \n",
    "        if not is_root_line:\n",
    "            continue\n",
    "        \n",
    "        token_type = tok[0]\n",
    "        token_string = tok[1]\n",
    "        start_line, start_col = tok[2]\n",
    "        end_line, end_col = tok[3]\n",
    "        ltext = tok[4]\n",
    "        if start_line > last_lineno:\n",
    "            last_col = 0\n",
    "        if start_col > last_col:\n",
    "            out += (\" \" * (start_col - last_col))\n",
    "        if token_type == tokenize.COMMENT:\n",
    "            pass\n",
    "        elif token_type == tokenize.STRING:\n",
    "            if prev_toktype != tokenize.INDENT:\n",
    "                if prev_toktype != tokenize.NEWLINE:\n",
    "                    if start_col > 0:\n",
    "                        out += token_string\n",
    "        else:\n",
    "            out += token_string\n",
    "        prev_toktype = token_type\n",
    "        last_col = end_col\n",
    "        \n",
    "    return [l.strip() for l in out.splitlines() if l.strip()]\n",
    "\n",
    "\n",
    "def parse_runnable_files(file_list, file_dir):\n",
    "    \n",
    "    files_is_inline_list = []\n",
    "    \n",
    "    for fn in file_list:\n",
    "        \n",
    "        with open(os.path.join(file_dir, fn), 'r', encoding='utf-8', errors='ignore') as f:\n",
    "            \n",
    "            lines = remove_comments_and_docstrings(f.read())\n",
    "            \n",
    "            is_inline = False\n",
    "            \n",
    "            for line in lines:\n",
    "                \n",
    "                def check_inline(line) -> bool:\n",
    "                    \n",
    "                    is_root = line[0] != ' '\n",
    "\n",
    "                    if not is_root:\n",
    "                        return False\n",
    "\n",
    "                    line = line.strip()\n",
    "                    params = line.split()\n",
    "                    params = [p.strip() for p in params]\n",
    "\n",
    "                    if len(params) < 2:\n",
    "                        return False\n",
    "\n",
    "                    # skip value assignments\n",
    "                    if '=' in params:\n",
    "                        return False\n",
    "\n",
    "                    first = params[0]\n",
    "\n",
    "                    # skip @\n",
    "                    if '@' == first:\n",
    "                        return False\n",
    "\n",
    "                    # template {%\n",
    "                    if '{%' == first:\n",
    "                        return False\n",
    "\n",
    "                    if first[0] in ['}', '{', '[', ']', '<', '>']:\n",
    "                        return False\n",
    "\n",
    "                    if params[0] in ['class', 'def', 'import', 'from']:\n",
    "                        return False\n",
    "                    \n",
    "                    return True\n",
    "                    \n",
    "                if check_inline(line):\n",
    "                    is_inline = True\n",
    "                    break\n",
    "                    \n",
    "            files_is_inline_list.append([fn, is_inline])\n",
    "            \n",
    "    return files_is_inline_list\n",
    "                    \n"
   ]
  },
  {
   "cell_type": "code",
   "execution_count": 70,
   "metadata": {},
   "outputs": [],
   "source": [
    "files_is_inline_list = parse_runnable_files(df_train['filename'], train_file_dir)\n",
    "df_train_inline = pd.DataFrame(files_is_inline_list, columns=['filename', 'is_inline'])"
   ]
  },
  {
   "cell_type": "code",
   "execution_count": 82,
   "metadata": {},
   "outputs": [],
   "source": [
    "df_test_inline = parse_runnable_files(df_train['filename'], train_file_dir)"
   ]
  },
  {
   "cell_type": "code",
   "execution_count": 86,
   "metadata": {},
   "outputs": [
    {
     "name": "stdout",
     "output_type": "stream",
     "text": [
      "3966 6034 10000\n"
     ]
    },
    {
     "ename": "AttributeError",
     "evalue": "module 'matplotlib.pyplot' has no attribute 'ax'",
     "output_type": "error",
     "traceback": [
      "\u001b[0;31m---------------------------------------------------------------------------\u001b[0m",
      "\u001b[0;31mAttributeError\u001b[0m                            Traceback (most recent call last)",
      "\u001b[0;32m<ipython-input-86-14ca744f329e>\u001b[0m in \u001b[0;36m<module>\u001b[0;34m\u001b[0m\n\u001b[1;32m      2\u001b[0m \u001b[0mfig\u001b[0m \u001b[0;34m=\u001b[0m \u001b[0mplt\u001b[0m\u001b[0;34m.\u001b[0m\u001b[0mfigure\u001b[0m\u001b[0;34m(\u001b[0m\u001b[0;34m)\u001b[0m\u001b[0;34m\u001b[0m\u001b[0;34m\u001b[0m\u001b[0m\n\u001b[1;32m      3\u001b[0m \u001b[0;34m\u001b[0m\u001b[0m\n\u001b[0;32m----> 4\u001b[0;31m \u001b[0max\u001b[0m \u001b[0;34m=\u001b[0m \u001b[0mplt\u001b[0m\u001b[0;34m.\u001b[0m\u001b[0max\u001b[0m\u001b[0;34m(\u001b[0m\u001b[0;34m)\u001b[0m\u001b[0;34m\u001b[0m\u001b[0;34m\u001b[0m\u001b[0m\n\u001b[0m",
      "\u001b[0;31mAttributeError\u001b[0m: module 'matplotlib.pyplot' has no attribute 'ax'"
     ]
    },
    {
     "data": {
      "text/plain": [
       "<Figure size 432x288 with 0 Axes>"
      ]
     },
     "metadata": {},
     "output_type": "display_data"
    }
   ],
   "source": [
    "def plot_inline(df, title):\n",
    "    \n",
    "    df_inline_true = df[df['is_inline'] == True]\n",
    "    df_inline_false = df[df['is_inline'] == False]\n",
    "    \n",
    "    data = [len(df_inline_true), len(df_inline_false)]\n",
    "    lables = ['Inline', 'Module']\n",
    "\n",
    "    fig = plt.figure()\n",
    "\n",
    "    ax = fig.add_axes([0,0,1,1])\n",
    "    ax.set_title(title)\n",
    "    ax.pie(class_func_both_data,labels=class_func_both_data_labels,\n",
    "            shadow=False, startangle=90, autopct=lambda pct: fmt_label(pct, len(df)))\n",
    "\n",
    "    fig.savefig(f'{title}.png', figsize=(4, 4), dpi=200, bbox_inches='tight')\n",
    "    \n",
    "plot_inline(df_train_inline)"
   ]
  },
  {
   "cell_type": "code",
   "execution_count": null,
   "metadata": {},
   "outputs": [],
   "source": []
  }
 ],
 "metadata": {
  "kernelspec": {
   "display_name": "Python 3",
   "language": "python",
   "name": "python3"
  },
  "language_info": {
   "codemirror_mode": {
    "name": "ipython",
    "version": 3
   },
   "file_extension": ".py",
   "mimetype": "text/x-python",
   "name": "python",
   "nbconvert_exporter": "python",
   "pygments_lexer": "ipython3",
   "version": "3.8.3"
  }
 },
 "nbformat": 4,
 "nbformat_minor": 4
}
