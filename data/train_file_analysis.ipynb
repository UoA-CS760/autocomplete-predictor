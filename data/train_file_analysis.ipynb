{
 "cells": [
  {
   "cell_type": "markdown",
   "metadata": {},
   "source": [
    "# Analysis of Training Files\n",
    "\n",
    "1. Do the test set and train set come from the same project?\n",
    "2. How clean is the dataset? Is it script only? Is it coded by professionals with same style? Or mixed?\n",
    "\n",
    "class based file?\n",
    "def based file?\n",
    "\n",
    "inline variable definition?"
   ]
  },
  {
   "cell_type": "code",
   "execution_count": 123,
   "metadata": {},
   "outputs": [
    {
     "name": "stdout",
     "output_type": "stream",
     "text": [
      "found 10000 files\n"
     ]
    }
   ],
   "source": [
    "import os\n",
    "import pandas as pd\n",
    "import matplotlib as plt\n",
    "\n",
    "# search training files\n",
    "train_file_dir = 'train_files'\n",
    "train_file_list = os.listdir(train_file_dir)\n",
    "\n",
    "file_count = 0\n",
    "for fp in train_file_list:\n",
    "    if os.path.splitext(fp)[1].lower() != '.py':\n",
    "        raise ValueError(f'unknown file! {fp}')\n",
    "    file_count += 1\n",
    "\n",
    "print(f'found {file_count} files')\n",
    "\n",
    "df = pd.DataFrame(train_file_list, columns=[\n",
    "    'filename'\n",
    "])\n",
    "df = df.reset_index()\n"
   ]
  },
  {
   "cell_type": "code",
   "execution_count": 124,
   "metadata": {
    "collapsed": false,
    "jupyter": {
     "outputs_hidden": false
    },
    "pycharm": {
     "name": "#%%\n"
    }
   },
   "outputs": [],
   "source": [
    "filenames = df['filename']\n",
    "# load line count\n",
    "non_empty_line_count = {}\n",
    "is_init = {}\n",
    "root_class_count = {}\n",
    "root_function_count = {}\n",
    "\n",
    "for fn in filenames:\n",
    "    try:\n",
    "        with open(os.path.join(train_file_dir, fn), 'r', encoding='utf-8', errors='ignore') as f :\n",
    "            lines = f.readlines()\n",
    "            lines = [l.strip('\\n') for l in lines]\n",
    "            lines = [l for l in lines if len(l.strip()) > 0]\n",
    "            non_empty_line_count[fn] = len(lines)\n",
    "\n",
    "            curr_is_init = '__init__.py' == fn[-1 * len('__init__.py'):]\n",
    "            is_init[fn] = curr_is_init\n",
    "\n",
    "            curr_root_class_count = len([l for l in lines if l[:len('class')] == 'class'])\n",
    "            root_class_count[fn] = curr_root_class_count\n",
    "\n",
    "            curr_root_function_count = len([l for l in lines if l[:len('def')] == 'def'])\n",
    "            root_function_count[fn] = curr_root_function_count\n",
    "\n",
    "    except Exception as e:\n",
    "        print(fn)\n",
    "        raise e\n",
    "\n",
    "df['non_empty_line_count'] = non_empty_line_count.values()\n",
    "df['is_init'] = is_init.values()\n",
    "df['root_class_count'] = root_class_count.values()\n",
    "df['root_function_count'] = root_function_count.values()"
   ]
  },
  {
   "cell_type": "code",
   "execution_count": 125,
   "metadata": {
    "collapsed": false,
    "jupyter": {
     "outputs_hidden": false
    },
    "pycharm": {
     "name": "#%%\n"
    }
   },
   "outputs": [
    {
     "data": {
      "text/plain": "   index                                           filename  \\\n0      0  data_Rochester-NRT_RocAlphaGo_tests_test_polic...   \n1      1      data_pydanny_django-profiletools_docs_conf.py   \n2      2   data_kennethreitz_tablib_tablib_formats__xlsx.py   \n3      3  data_openstack_group-based-policy_gbpservice_n...   \n4      4           data_Emsu_prophet_examples_quickstart.py   \n\n   non_empty_line_count  is_init  root_class_count  root_function_count  \n0                    85    False                 2                    0  \n1                   177    False                 0                    0  \n2                   109    False                 0                    6  \n3                   168    False                 1                    0  \n4                    33    False                 1                    0  ",
      "text/html": "<div>\n<style scoped>\n    .dataframe tbody tr th:only-of-type {\n        vertical-align: middle;\n    }\n\n    .dataframe tbody tr th {\n        vertical-align: top;\n    }\n\n    .dataframe thead th {\n        text-align: right;\n    }\n</style>\n<table border=\"1\" class=\"dataframe\">\n  <thead>\n    <tr style=\"text-align: right;\">\n      <th></th>\n      <th>index</th>\n      <th>filename</th>\n      <th>non_empty_line_count</th>\n      <th>is_init</th>\n      <th>root_class_count</th>\n      <th>root_function_count</th>\n    </tr>\n  </thead>\n  <tbody>\n    <tr>\n      <th>0</th>\n      <td>0</td>\n      <td>data_Rochester-NRT_RocAlphaGo_tests_test_polic...</td>\n      <td>85</td>\n      <td>False</td>\n      <td>2</td>\n      <td>0</td>\n    </tr>\n    <tr>\n      <th>1</th>\n      <td>1</td>\n      <td>data_pydanny_django-profiletools_docs_conf.py</td>\n      <td>177</td>\n      <td>False</td>\n      <td>0</td>\n      <td>0</td>\n    </tr>\n    <tr>\n      <th>2</th>\n      <td>2</td>\n      <td>data_kennethreitz_tablib_tablib_formats__xlsx.py</td>\n      <td>109</td>\n      <td>False</td>\n      <td>0</td>\n      <td>6</td>\n    </tr>\n    <tr>\n      <th>3</th>\n      <td>3</td>\n      <td>data_openstack_group-based-policy_gbpservice_n...</td>\n      <td>168</td>\n      <td>False</td>\n      <td>1</td>\n      <td>0</td>\n    </tr>\n    <tr>\n      <th>4</th>\n      <td>4</td>\n      <td>data_Emsu_prophet_examples_quickstart.py</td>\n      <td>33</td>\n      <td>False</td>\n      <td>1</td>\n      <td>0</td>\n    </tr>\n  </tbody>\n</table>\n</div>"
     },
     "execution_count": 125,
     "metadata": {},
     "output_type": "execute_result"
    }
   ],
   "source": [
    "df.head()\n",
    "\n",
    "# check imports\n",
    "\n",
    "# check class?\n",
    "\n",
    "# check"
   ]
  },
  {
   "cell_type": "code",
   "execution_count": 126,
   "metadata": {
    "collapsed": false,
    "jupyter": {
     "outputs_hidden": false
    },
    "pycharm": {
     "name": "#%%\n"
    }
   },
   "outputs": [
    {
     "data": {
      "text/plain": "<matplotlib.axes._subplots.AxesSubplot at 0x7fcf568e9b80>"
     },
     "execution_count": 126,
     "metadata": {},
     "output_type": "execute_result"
    },
    {
     "data": {
      "text/plain": "<Figure size 432x288 with 1 Axes>",
      "image/png": "[encoded data removed]"
     },
     "metadata": {
      "needs_background": "light"
     },
     "output_type": "display_data"
    }
   ],
   "source": [
    "df[['root_function_count', 'root_class_count']].plot()\n"
   ]
  },
  {
   "cell_type": "code",
   "execution_count": 127,
   "outputs": [
    {
     "data": {
      "text/plain": "<matplotlib.axes._subplots.AxesSubplot at 0x7fcf565756a0>"
     },
     "execution_count": 127,
     "metadata": {},
     "output_type": "execute_result"
    },
    {
     "data": {
      "text/plain": "<Figure size 432x288 with 1 Axes>",
      "image/png": "[encoded data removed]"
     },
     "metadata": {
      "needs_background": "light"
     },
     "output_type": "display_data"
    }
   ],
   "source": [
    "df['non_empty_line_count'].plot()"
   ],
   "metadata": {
    "collapsed": false,
    "pycharm": {
     "name": "#%%\n"
    }
   }
  },
  {
   "cell_type": "code",
   "execution_count": 129,
   "metadata": {
    "collapsed": false,
    "jupyter": {
     "outputs_hidden": false
    },
    "pycharm": {
     "name": "#%%\n"
    }
   },
   "outputs": [
    {
     "data": {
      "text/plain": "index                                                                6640\nfilename                data_openstack_proliantutils_proliantutils_tes...\nnon_empty_line_count                                                27112\nis_init                                                             False\nroot_class_count                                                        0\nroot_function_count                                                     0\nName: 6640, dtype: object"
     },
     "execution_count": 129,
     "metadata": {},
     "output_type": "execute_result"
    }
   ],
   "source": [
    "df.loc[df['non_empty_line_count'].idxmax()]"
   ]
  },
  {
   "cell_type": "code",
   "execution_count": null,
   "outputs": [],
   "source": [],
   "metadata": {
    "collapsed": false,
    "pycharm": {
     "name": "#%%\n"
    }
   }
  },
  {
   "cell_type": "code",
   "execution_count": null,
   "metadata": {},
   "outputs": [],
   "source": []
  }
 ],
 "metadata": {
  "kernelspec": {
   "display_name": "Python 3",
   "language": "python",
   "name": "python3"
  },
  "language_info": {
   "codemirror_mode": {
    "name": "ipython",
    "version": 3
   },
   "file_extension": ".py",
   "mimetype": "text/x-python",
   "name": "python",
   "nbconvert_exporter": "python",
   "pygments_lexer": "ipython3",
   "version": "3.8.5"
  }
 },
 "nbformat": 4,
 "nbformat_minor": 4
}